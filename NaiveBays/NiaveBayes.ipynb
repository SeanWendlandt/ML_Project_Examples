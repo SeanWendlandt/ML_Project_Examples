{
 "cells": [
  {
   "cell_type": "code",
   "execution_count": 1,
   "id": "6cd6e2ef",
   "metadata": {},
   "outputs": [],
   "source": [
    "# Sean Wendlandt 5/6/23\n",
    "from sklearn.naive_bayes import GaussianNB, MultinomialNB, ComplementNB, BernoulliNB, CategoricalNB\n",
    "from sklearn.feature_extraction.text import TfidfVectorizer\n",
    "from sklearn.model_selection import GridSearchCV, train_test_split, cross_validate, cross_val_score\n",
    "from sklearn.pipeline import Pipeline\n",
    "from sklearn.preprocessing import StandardScaler, LabelEncoder, normalize\n",
    "from scipy.stats import norm\n",
    "from nltk.tokenize import word_tokenize\n",
    "from nltk.stem import WordNetLemmatizer\n",
    "from nltk.corpus import stopwords\n",
    "import numpy as np \n",
    "import pandas as pd \n",
    "import re, string"
   ]
  },
  {
   "cell_type": "markdown",
   "id": "a8cc72ab",
   "metadata": {},
   "source": [
    "#### 1A"
   ]
  },
  {
   "cell_type": "code",
   "execution_count": 2,
   "id": "8ae14e69",
   "metadata": {},
   "outputs": [
    {
     "data": {
      "text/html": [
       "<div>\n",
       "<style scoped>\n",
       "    .dataframe tbody tr th:only-of-type {\n",
       "        vertical-align: middle;\n",
       "    }\n",
       "\n",
       "    .dataframe tbody tr th {\n",
       "        vertical-align: top;\n",
       "    }\n",
       "\n",
       "    .dataframe thead th {\n",
       "        text-align: right;\n",
       "    }\n",
       "</style>\n",
       "<table border=\"1\" class=\"dataframe\">\n",
       "  <thead>\n",
       "    <tr style=\"text-align: right;\">\n",
       "      <th></th>\n",
       "      <th>workclass</th>\n",
       "      <th>education</th>\n",
       "      <th>race</th>\n",
       "      <th>gender</th>\n",
       "      <th>income</th>\n",
       "    </tr>\n",
       "  </thead>\n",
       "  <tbody>\n",
       "    <tr>\n",
       "      <th>0</th>\n",
       "      <td>State-gov</td>\n",
       "      <td>Bachelors</td>\n",
       "      <td>White</td>\n",
       "      <td>Male</td>\n",
       "      <td>&lt;=50K</td>\n",
       "    </tr>\n",
       "    <tr>\n",
       "      <th>1</th>\n",
       "      <td>Self-emp-not-inc</td>\n",
       "      <td>Bachelors</td>\n",
       "      <td>White</td>\n",
       "      <td>Male</td>\n",
       "      <td>&lt;=50K</td>\n",
       "    </tr>\n",
       "    <tr>\n",
       "      <th>2</th>\n",
       "      <td>Private</td>\n",
       "      <td>HS-grad</td>\n",
       "      <td>White</td>\n",
       "      <td>Male</td>\n",
       "      <td>&lt;=50K</td>\n",
       "    </tr>\n",
       "    <tr>\n",
       "      <th>3</th>\n",
       "      <td>Private</td>\n",
       "      <td>11th</td>\n",
       "      <td>Black</td>\n",
       "      <td>Male</td>\n",
       "      <td>&lt;=50K</td>\n",
       "    </tr>\n",
       "    <tr>\n",
       "      <th>4</th>\n",
       "      <td>Private</td>\n",
       "      <td>Bachelors</td>\n",
       "      <td>Black</td>\n",
       "      <td>Female</td>\n",
       "      <td>&lt;=50K</td>\n",
       "    </tr>\n",
       "  </tbody>\n",
       "</table>\n",
       "</div>"
      ],
      "text/plain": [
       "          workclass  education   race  gender income\n",
       "0         State-gov  Bachelors  White    Male  <=50K\n",
       "1  Self-emp-not-inc  Bachelors  White    Male  <=50K\n",
       "2           Private    HS-grad  White    Male  <=50K\n",
       "3           Private       11th  Black    Male  <=50K\n",
       "4           Private  Bachelors  Black  Female  <=50K"
      ]
     },
     "execution_count": 2,
     "metadata": {},
     "output_type": "execute_result"
    }
   ],
   "source": [
    "income_df = pd.read_csv('income_evaluation_cat.csv',skipinitialspace=True)\n",
    "income_df.head()"
   ]
  },
  {
   "cell_type": "code",
   "execution_count": 3,
   "id": "a18e48f8",
   "metadata": {},
   "outputs": [
    {
     "name": "stdout",
     "output_type": "stream",
     "text": [
      "workclass : ['State-gov' 'Self-emp-not-inc' 'Private' 'Federal-gov' 'Local-gov' '?'\n",
      " 'Self-emp-inc' 'Without-pay' 'Never-worked'] \n",
      "\n",
      "education : ['Bachelors' 'HS-grad' '11th' 'Masters' '9th' 'Some-college' 'Assoc-acdm'\n",
      " 'Assoc-voc' '7th-8th' 'Doctorate' 'Prof-school' '5th-6th' '10th'\n",
      " '1st-4th' 'Preschool' '12th'] \n",
      "\n",
      "race : ['White' 'Black' 'Asian-Pac-Islander' 'Amer-Indian-Eskimo' 'Other'] \n",
      "\n",
      "gender : ['Male' 'Female'] \n",
      "\n",
      "income : ['<=50K' '>50K'] \n",
      "\n"
     ]
    }
   ],
   "source": [
    "for col in income_df.columns:\n",
    "    print(col,':',income_df[col].unique(),'\\n')"
   ]
  },
  {
   "cell_type": "markdown",
   "id": "5070ca01",
   "metadata": {},
   "source": [
    "#### 1B"
   ]
  },
  {
   "cell_type": "code",
   "execution_count": 4,
   "id": "0c13ee8e",
   "metadata": {},
   "outputs": [],
   "source": [
    "X = ['Private','Bachelors','White','Female']"
   ]
  },
  {
   "cell_type": "code",
   "execution_count": 5,
   "id": "c91d4807",
   "metadata": {},
   "outputs": [
    {
     "name": "stdout",
     "output_type": "stream",
     "text": [
      "0.7591904425539756\n",
      "0.2408095574460244\n"
     ]
    }
   ],
   "source": [
    "p_less50 = len(income_df[income_df['income']=='<=50K'])/len(income_df)\n",
    "print(p_less50)\n",
    "p_greater50 = len(income_df[income_df['income']=='>50K'])/len(income_df)\n",
    "print(p_greater50)"
   ]
  },
  {
   "cell_type": "code",
   "execution_count": 9,
   "id": "448f79dc",
   "metadata": {},
   "outputs": [],
   "source": [
    "def my_nb(in_df, test_case):\n",
    "    p_less50 = len(in_df[in_df['income'] == '<=50K']) / len(in_df)\n",
    "    p_greater50 = len(in_df[in_df['income'] == '>50K']) / len(in_df)\n",
    "\n",
    "    p_work_less = len(in_df.loc[(in_df['workclass'] == test_case[0])].loc[in_df['income'] == '<=50K']) / (p_less50 * len(in_df))\n",
    "    p_work_greater = len(in_df.loc[(in_df['workclass'] == test_case[0])].loc[in_df['income'] == '>50K']) / (p_greater50 * len(in_df))\n",
    "\n",
    "    p_edu_less = len(in_df.loc[(in_df['education'] == test_case[1])].loc[in_df['income'] == '<=50K']) / (p_less50 * len(in_df))\n",
    "    p_edu_greater = len(in_df.loc[(in_df['education'] == test_case[1])].loc[in_df['income'] == '>50K']) / (p_greater50 * len(in_df))\n",
    "\n",
    "    p_race_less = len(in_df.loc[(in_df['race'] == test_case[2])].loc[in_df['income'] == '<=50K']) / (p_less50 * len(in_df))\n",
    "    p_race_greater = len(in_df.loc[(in_df['race'] == test_case[2])].loc[in_df['income'] == '>50K']) / (p_greater50 * len(in_df))\n",
    "\n",
    "    p_gen_less = len(in_df.loc[(in_df['gender'] == test_case[3])].loc[in_df['income'] == '<=50K']) / (p_less50 * len(in_df))\n",
    "    p_gen_greater = len(in_df.loc[(in_df['gender'] == test_case[3])].loc[in_df['income'] == '>50K']) / (p_greater50 * len(in_df))\n",
    "\n",
    "    p_dict = {}\n",
    "\n",
    "    p_dict['<=50K'] = p_less50 * p_work_less * p_edu_less * p_race_less * p_gen_less\n",
    "    p_dict['>50K'] = p_greater50 * p_work_greater * p_edu_greater * p_race_greater * p_gen_greater\n",
    "\n",
    "    # Normalize probabilities\n",
    "    total_prob = sum(p_dict.values())\n",
    "    p_dict = {k: v / total_prob for k, v in p_dict.items()}\n",
    "\n",
    "    print(p_dict)\n",
    "\n",
    "    max_key = '<=50K'\n",
    "    max_val = p_dict['<=50K']\n",
    "\n",
    "    for key in p_dict.keys():\n",
    "        if p_dict[key] > max_val:\n",
    "            max_key = key\n",
    "            max_val = p_dict[key]\n",
    "\n",
    "    return max_key"
   ]
  },
  {
   "cell_type": "code",
   "execution_count": 10,
   "id": "92e5b94b",
   "metadata": {},
   "outputs": [
    {
     "name": "stdout",
     "output_type": "stream",
     "text": [
      "{'<=50K': 0.7919784735489185, '>50K': 0.20802152645108152}\n"
     ]
    },
    {
     "data": {
      "text/plain": [
       "'<=50K'"
      ]
     },
     "execution_count": 10,
     "metadata": {},
     "output_type": "execute_result"
    }
   ],
   "source": [
    "my_nb(income_df,X)"
   ]
  },
  {
   "cell_type": "markdown",
   "id": "20f085c3",
   "metadata": {},
   "source": [
    "#### 1C"
   ]
  },
  {
   "cell_type": "code",
   "execution_count": 8,
   "id": "1bcfd5e8",
   "metadata": {},
   "outputs": [
    {
     "data": {
      "text/html": [
       "<div>\n",
       "<style scoped>\n",
       "    .dataframe tbody tr th:only-of-type {\n",
       "        vertical-align: middle;\n",
       "    }\n",
       "\n",
       "    .dataframe tbody tr th {\n",
       "        vertical-align: top;\n",
       "    }\n",
       "\n",
       "    .dataframe thead th {\n",
       "        text-align: right;\n",
       "    }\n",
       "</style>\n",
       "<table border=\"1\" class=\"dataframe\">\n",
       "  <thead>\n",
       "    <tr style=\"text-align: right;\">\n",
       "      <th></th>\n",
       "      <th>workclass</th>\n",
       "      <th>education</th>\n",
       "      <th>race</th>\n",
       "      <th>gender</th>\n",
       "      <th>income</th>\n",
       "    </tr>\n",
       "  </thead>\n",
       "  <tbody>\n",
       "    <tr>\n",
       "      <th>0</th>\n",
       "      <td>7</td>\n",
       "      <td>9</td>\n",
       "      <td>4</td>\n",
       "      <td>1</td>\n",
       "      <td>0</td>\n",
       "    </tr>\n",
       "    <tr>\n",
       "      <th>1</th>\n",
       "      <td>6</td>\n",
       "      <td>9</td>\n",
       "      <td>4</td>\n",
       "      <td>1</td>\n",
       "      <td>0</td>\n",
       "    </tr>\n",
       "    <tr>\n",
       "      <th>2</th>\n",
       "      <td>4</td>\n",
       "      <td>11</td>\n",
       "      <td>4</td>\n",
       "      <td>1</td>\n",
       "      <td>0</td>\n",
       "    </tr>\n",
       "    <tr>\n",
       "      <th>3</th>\n",
       "      <td>4</td>\n",
       "      <td>1</td>\n",
       "      <td>2</td>\n",
       "      <td>1</td>\n",
       "      <td>0</td>\n",
       "    </tr>\n",
       "    <tr>\n",
       "      <th>4</th>\n",
       "      <td>4</td>\n",
       "      <td>9</td>\n",
       "      <td>2</td>\n",
       "      <td>0</td>\n",
       "      <td>0</td>\n",
       "    </tr>\n",
       "    <tr>\n",
       "      <th>...</th>\n",
       "      <td>...</td>\n",
       "      <td>...</td>\n",
       "      <td>...</td>\n",
       "      <td>...</td>\n",
       "      <td>...</td>\n",
       "    </tr>\n",
       "    <tr>\n",
       "      <th>32556</th>\n",
       "      <td>4</td>\n",
       "      <td>7</td>\n",
       "      <td>4</td>\n",
       "      <td>0</td>\n",
       "      <td>0</td>\n",
       "    </tr>\n",
       "    <tr>\n",
       "      <th>32557</th>\n",
       "      <td>4</td>\n",
       "      <td>11</td>\n",
       "      <td>4</td>\n",
       "      <td>1</td>\n",
       "      <td>1</td>\n",
       "    </tr>\n",
       "    <tr>\n",
       "      <th>32558</th>\n",
       "      <td>4</td>\n",
       "      <td>11</td>\n",
       "      <td>4</td>\n",
       "      <td>0</td>\n",
       "      <td>0</td>\n",
       "    </tr>\n",
       "    <tr>\n",
       "      <th>32559</th>\n",
       "      <td>4</td>\n",
       "      <td>11</td>\n",
       "      <td>4</td>\n",
       "      <td>1</td>\n",
       "      <td>0</td>\n",
       "    </tr>\n",
       "    <tr>\n",
       "      <th>32560</th>\n",
       "      <td>5</td>\n",
       "      <td>11</td>\n",
       "      <td>4</td>\n",
       "      <td>0</td>\n",
       "      <td>1</td>\n",
       "    </tr>\n",
       "  </tbody>\n",
       "</table>\n",
       "<p>32561 rows × 5 columns</p>\n",
       "</div>"
      ],
      "text/plain": [
       "       workclass  education  race  gender  income\n",
       "0              7          9     4       1       0\n",
       "1              6          9     4       1       0\n",
       "2              4         11     4       1       0\n",
       "3              4          1     2       1       0\n",
       "4              4          9     2       0       0\n",
       "...          ...        ...   ...     ...     ...\n",
       "32556          4          7     4       0       0\n",
       "32557          4         11     4       1       1\n",
       "32558          4         11     4       0       0\n",
       "32559          4         11     4       1       0\n",
       "32560          5         11     4       0       1\n",
       "\n",
       "[32561 rows x 5 columns]"
      ]
     },
     "execution_count": 8,
     "metadata": {},
     "output_type": "execute_result"
    }
   ],
   "source": [
    "income_scaled = pd.DataFrame(income_df,copy=True)\n",
    "work_label = LabelEncoder()\n",
    "edu_label = LabelEncoder()\n",
    "race_label = LabelEncoder()\n",
    "gender_label = LabelEncoder()\n",
    "income_label = LabelEncoder()\n",
    "\n",
    "income_scaled['workclass'] = work_label.fit_transform(income_scaled['workclass'])\n",
    "income_scaled['education'] = edu_label.fit_transform(income_scaled['education'])\n",
    "income_scaled['race'] = race_label.fit_transform(income_scaled['race'])\n",
    "income_scaled['gender'] = gender_label.fit_transform(income_scaled['gender'])\n",
    "income_scaled['income'] = income_label.fit_transform(income_scaled['income'])\n",
    "\n",
    "income_scaled"
   ]
  },
  {
   "cell_type": "markdown",
   "id": "a5d5c210",
   "metadata": {},
   "source": [
    "#### 1D"
   ]
  },
  {
   "cell_type": "code",
   "execution_count": 10,
   "id": "231abb49",
   "metadata": {},
   "outputs": [
    {
     "name": "stdout",
     "output_type": "stream",
     "text": [
      "       workclass  education  race  gender\n",
      "20689          4         15     4       1\n",
      "20689    0\n",
      "32174    0\n",
      "Name: income, dtype: int32\n"
     ]
    }
   ],
   "source": [
    "X = income_scaled.iloc[:,:-1]\n",
    "y = income_scaled.iloc[:,-1]\n",
    "X_train, X_test, y_train, y_test = train_test_split(X,y,test_size = 0.3)\n",
    "print(X_test.head(1))\n",
    "print(y_test.head(2))"
   ]
  },
  {
   "cell_type": "markdown",
   "id": "3706790f",
   "metadata": {},
   "source": [
    "#### 1E"
   ]
  },
  {
   "cell_type": "code",
   "execution_count": 12,
   "id": "0ae3eb95",
   "metadata": {},
   "outputs": [
    {
     "name": "stdout",
     "output_type": "stream",
     "text": [
      "Train: 0.7854510354510355\n",
      "Test: 0.7814515303511107\n"
     ]
    }
   ],
   "source": [
    "cnb = CategoricalNB()\n",
    "\n",
    "cnb.fit(X_train,y_train)\n",
    "print('Train:',cnb.score(X_train,y_train))\n",
    "print('Test:',cnb.score(X_test,y_test))"
   ]
  },
  {
   "cell_type": "markdown",
   "id": "ee60cacf",
   "metadata": {},
   "source": [
    "#### 2A"
   ]
  },
  {
   "cell_type": "code",
   "execution_count": 13,
   "id": "c66fe84a",
   "metadata": {},
   "outputs": [
    {
     "data": {
      "text/html": [
       "<div>\n",
       "<style scoped>\n",
       "    .dataframe tbody tr th:only-of-type {\n",
       "        vertical-align: middle;\n",
       "    }\n",
       "\n",
       "    .dataframe tbody tr th {\n",
       "        vertical-align: top;\n",
       "    }\n",
       "\n",
       "    .dataframe thead th {\n",
       "        text-align: right;\n",
       "    }\n",
       "</style>\n",
       "<table border=\"1\" class=\"dataframe\">\n",
       "  <thead>\n",
       "    <tr style=\"text-align: right;\">\n",
       "      <th></th>\n",
       "      <th>age</th>\n",
       "      <th>education_num</th>\n",
       "      <th>hours_per_week</th>\n",
       "      <th>income</th>\n",
       "    </tr>\n",
       "  </thead>\n",
       "  <tbody>\n",
       "    <tr>\n",
       "      <th>0</th>\n",
       "      <td>39</td>\n",
       "      <td>13</td>\n",
       "      <td>40</td>\n",
       "      <td>&lt;=50K</td>\n",
       "    </tr>\n",
       "    <tr>\n",
       "      <th>1</th>\n",
       "      <td>50</td>\n",
       "      <td>13</td>\n",
       "      <td>13</td>\n",
       "      <td>&lt;=50K</td>\n",
       "    </tr>\n",
       "    <tr>\n",
       "      <th>2</th>\n",
       "      <td>38</td>\n",
       "      <td>9</td>\n",
       "      <td>40</td>\n",
       "      <td>&lt;=50K</td>\n",
       "    </tr>\n",
       "    <tr>\n",
       "      <th>3</th>\n",
       "      <td>53</td>\n",
       "      <td>7</td>\n",
       "      <td>40</td>\n",
       "      <td>&lt;=50K</td>\n",
       "    </tr>\n",
       "    <tr>\n",
       "      <th>4</th>\n",
       "      <td>28</td>\n",
       "      <td>13</td>\n",
       "      <td>40</td>\n",
       "      <td>&lt;=50K</td>\n",
       "    </tr>\n",
       "    <tr>\n",
       "      <th>...</th>\n",
       "      <td>...</td>\n",
       "      <td>...</td>\n",
       "      <td>...</td>\n",
       "      <td>...</td>\n",
       "    </tr>\n",
       "    <tr>\n",
       "      <th>32556</th>\n",
       "      <td>27</td>\n",
       "      <td>12</td>\n",
       "      <td>38</td>\n",
       "      <td>&lt;=50K</td>\n",
       "    </tr>\n",
       "    <tr>\n",
       "      <th>32557</th>\n",
       "      <td>40</td>\n",
       "      <td>9</td>\n",
       "      <td>40</td>\n",
       "      <td>&gt;50K</td>\n",
       "    </tr>\n",
       "    <tr>\n",
       "      <th>32558</th>\n",
       "      <td>58</td>\n",
       "      <td>9</td>\n",
       "      <td>40</td>\n",
       "      <td>&lt;=50K</td>\n",
       "    </tr>\n",
       "    <tr>\n",
       "      <th>32559</th>\n",
       "      <td>22</td>\n",
       "      <td>9</td>\n",
       "      <td>20</td>\n",
       "      <td>&lt;=50K</td>\n",
       "    </tr>\n",
       "    <tr>\n",
       "      <th>32560</th>\n",
       "      <td>52</td>\n",
       "      <td>9</td>\n",
       "      <td>40</td>\n",
       "      <td>&gt;50K</td>\n",
       "    </tr>\n",
       "  </tbody>\n",
       "</table>\n",
       "<p>32561 rows × 4 columns</p>\n",
       "</div>"
      ],
      "text/plain": [
       "       age  education_num  hours_per_week income\n",
       "0       39             13              40  <=50K\n",
       "1       50             13              13  <=50K\n",
       "2       38              9              40  <=50K\n",
       "3       53              7              40  <=50K\n",
       "4       28             13              40  <=50K\n",
       "...    ...            ...             ...    ...\n",
       "32556   27             12              38  <=50K\n",
       "32557   40              9              40   >50K\n",
       "32558   58              9              40  <=50K\n",
       "32559   22              9              20  <=50K\n",
       "32560   52              9              40   >50K\n",
       "\n",
       "[32561 rows x 4 columns]"
      ]
     },
     "execution_count": 13,
     "metadata": {},
     "output_type": "execute_result"
    }
   ],
   "source": [
    "income_cont = pd.read_csv('income_evaluation_continuous.csv',skipinitialspace=True)\n",
    "income_cont"
   ]
  },
  {
   "cell_type": "code",
   "execution_count": 15,
   "id": "3b5aa215",
   "metadata": {},
   "outputs": [
    {
     "name": "stdout",
     "output_type": "stream",
     "text": [
      "df_less50 \n",
      "             age  education_num  hours_per_week\n",
      "mean  36.783738       9.595065       38.840210\n",
      "std   14.020088       2.436147       12.318995\n",
      "df_greater50 \n",
      "             age  education_num  hours_per_week\n",
      "mean  44.249841      11.611657       45.473026\n",
      "std   10.519028       2.385129       11.012971\n"
     ]
    },
    {
     "name": "stderr",
     "output_type": "stream",
     "text": [
      "C:\\Users\\Seanw\\AppData\\Local\\Temp\\ipykernel_15080\\2585530600.py:3: FutureWarning: ['income'] did not aggregate successfully. If any error is raised this will raise in a future version of pandas. Drop these columns/ops to avoid this warning.\n",
      "  print('df_less50 \\n',df_less50.apply(func = [\"mean\",\"std\"]))\n",
      "C:\\Users\\Seanw\\AppData\\Local\\Temp\\ipykernel_15080\\2585530600.py:4: FutureWarning: ['income'] did not aggregate successfully. If any error is raised this will raise in a future version of pandas. Drop these columns/ops to avoid this warning.\n",
      "  print('df_greater50 \\n',df_greater50.apply(func = [\"mean\",\"std\"]))\n"
     ]
    }
   ],
   "source": [
    "df_less50 = income_cont[income_cont[\"income\"] == '<=50K']\n",
    "df_greater50 = income_cont[income_cont[\"income\"] == '>50K']\n",
    "print('df_less50 \\n',df_less50.apply(func = [\"mean\",\"std\"]))\n",
    "print('df_greater50 \\n',df_greater50.apply(func = [\"mean\",\"std\"]))"
   ]
  },
  {
   "cell_type": "markdown",
   "id": "c963bbb1",
   "metadata": {},
   "source": [
    "#### 2F"
   ]
  },
  {
   "cell_type": "code",
   "execution_count": 16,
   "id": "ab4deb3c",
   "metadata": {},
   "outputs": [
    {
     "name": "stdout",
     "output_type": "stream",
     "text": [
      "0.7591904425539756\n",
      "0.2408095574460244\n"
     ]
    }
   ],
   "source": [
    "income_counts = income_cont.income.value_counts()\n",
    "    \n",
    "p_incomes = income_counts/sum(income_counts.values)\n",
    "    \n",
    "p_less = p_incomes[0]\n",
    "print(p_less)\n",
    "p_greater = p_incomes[1]\n",
    "print(p_greater)"
   ]
  },
  {
   "cell_type": "code",
   "execution_count": 17,
   "id": "9102f3cc",
   "metadata": {},
   "outputs": [
    {
     "name": "stdout",
     "output_type": "stream",
     "text": [
      "<=50K: 0.8346035034405684\n",
      ">50K: 0.16539649655943162\n"
     ]
    },
    {
     "data": {
      "text/plain": [
       "'<=50K'"
      ]
     },
     "execution_count": 17,
     "metadata": {},
     "output_type": "execute_result"
    }
   ],
   "source": [
    "X = [30, 10, 45]\n",
    "\n",
    "def n_bayes_cont(training, test, outcome_col):\n",
    "    \n",
    "    post_probability = {}\n",
    "    \n",
    "    for outcome in training[outcome_col].unique():\n",
    "        p_yi = training[outcome_col].value_counts()[outcome]/training.shape[0]\n",
    "        p_x_yi = 1\n",
    "        \n",
    "        # p_x_yi calculations\n",
    "        training_yi = training[training[outcome_col] == outcome]\n",
    "        for i,x in enumerate(test):\n",
    "            mean = np.mean(training_yi.iloc[:,i])\n",
    "            std = np.std(training_yi.iloc[:,i])\n",
    "            partial_prob = norm.pdf(x, mean, std)\n",
    "            p_x_yi = p_x_yi*partial_prob\n",
    "      \n",
    "        p_yi_x = p_x_yi*p_yi\n",
    "        post_probability[outcome]=p_yi_x\n",
    "    # Normalize probabilities and print\n",
    "    total_prob = sum(post_probability.values())\n",
    "    for outcome, prob in post_probability.items():\n",
    "        print(\"{}: {}\".format(outcome, prob/total_prob))\n",
    "\n",
    "    pred = max(post_probability, key=post_probability.get)\n",
    "    return pred\n",
    "\n",
    "n_bayes_cont(income_cont, X, \"income\")"
   ]
  },
  {
   "cell_type": "markdown",
   "id": "dba257d4",
   "metadata": {},
   "source": [
    "#### 2B"
   ]
  },
  {
   "cell_type": "code",
   "execution_count": 19,
   "id": "6db1393b",
   "metadata": {},
   "outputs": [
    {
     "name": "stdout",
     "output_type": "stream",
     "text": [
      "   age  education_num  hours_per_week\n",
      "0   39             13              40\n",
      "1   50             13              13\n",
      "2   38              9              40\n",
      "3   53              7              40\n",
      "4   28             13              40\n",
      "\n",
      "Standardized: [[ 0.03067056  1.13473876 -0.03542945]\n",
      " [ 0.83710898  1.13473876 -2.22215312]\n",
      " [-0.04264203 -0.42005962 -0.03542945]\n",
      " [ 1.05704673 -1.19745882 -0.03542945]\n",
      " [-0.77576787  1.13473876 -0.03542945]]\n",
      "\n",
      "Normalized: [[0.67993384 0.22664461 0.69736804]\n",
      " [0.93856382 0.24402659 0.24402659]\n",
      " [0.67976467 0.16099689 0.71554175]\n",
      " [0.79379039 0.10484024 0.59908709]\n",
      " [0.55415675 0.25728706 0.79165249]]\n"
     ]
    }
   ],
   "source": [
    "X = income_cont.iloc[:,:-1]\n",
    "y = income_cont.iloc[:,-1]\n",
    "\n",
    "print(X.head())\n",
    "sc = StandardScaler()\n",
    "X_std = sc.fit_transform(X)\n",
    "print('\\nStandardized:',X_std[:5])\n",
    "\n",
    "X_norm = normalize(X)\n",
    "print('\\nNormalized:',X_norm[:5])"
   ]
  },
  {
   "cell_type": "markdown",
   "id": "ddf4d037",
   "metadata": {},
   "source": [
    "#### 2C"
   ]
  },
  {
   "cell_type": "code",
   "execution_count": 20,
   "id": "95c5d1c6",
   "metadata": {},
   "outputs": [],
   "source": [
    "X_train_std,X_test_std,y_train_std,y_test_std =train_test_split(X_std,y,test_size= .25)"
   ]
  },
  {
   "cell_type": "code",
   "execution_count": 21,
   "id": "4ee15b25",
   "metadata": {},
   "outputs": [],
   "source": [
    "X_train_norm,X_test_norm,y_train_norm,y_test_norm = train_test_split(X_norm,y,test_size= .25)"
   ]
  },
  {
   "cell_type": "markdown",
   "id": "6782cf8d",
   "metadata": {},
   "source": [
    "#### 2D"
   ]
  },
  {
   "cell_type": "code",
   "execution_count": 22,
   "id": "31eec677",
   "metadata": {},
   "outputs": [
    {
     "name": "stdout",
     "output_type": "stream",
     "text": [
      "NB with Standard Scaler:\n",
      "Train: 0.7988533988533989\n",
      "Test: 0.8018670924947795\n",
      "\n",
      "NB with normalized data:\n",
      "Train: 0.7573710073710074\n",
      "Test: 0.7646480776317406\n"
     ]
    }
   ],
   "source": [
    "nb_std = GaussianNB()\n",
    "nb_norm = GaussianNB()\n",
    "\n",
    "nb_std.fit(X_train_std,y_train_std)\n",
    "print('NB with Standard Scaler:')\n",
    "print('Train:',nb_std.score(X_train_std,y_train_std))\n",
    "print('Test:',nb_std.score(X_test_std,y_test_std))\n",
    "print()\n",
    "\n",
    "nb_norm.fit(X_train_norm,y_train_norm)\n",
    "print('NB with normalized data:')\n",
    "print('Train:',nb_norm.score(X_train_norm,y_train_norm))\n",
    "print('Test:',nb_norm.score(X_test_norm,y_test_norm))"
   ]
  },
  {
   "cell_type": "markdown",
   "id": "7818fa4d",
   "metadata": {},
   "source": [
    "#### 3A"
   ]
  },
  {
   "cell_type": "code",
   "execution_count": 23,
   "id": "9e35892a",
   "metadata": {},
   "outputs": [
    {
     "data": {
      "text/html": [
       "<div>\n",
       "<style scoped>\n",
       "    .dataframe tbody tr th:only-of-type {\n",
       "        vertical-align: middle;\n",
       "    }\n",
       "\n",
       "    .dataframe tbody tr th {\n",
       "        vertical-align: top;\n",
       "    }\n",
       "\n",
       "    .dataframe thead th {\n",
       "        text-align: right;\n",
       "    }\n",
       "</style>\n",
       "<table border=\"1\" class=\"dataframe\">\n",
       "  <thead>\n",
       "    <tr style=\"text-align: right;\">\n",
       "      <th></th>\n",
       "      <th>title</th>\n",
       "      <th>text</th>\n",
       "      <th>news_type</th>\n",
       "    </tr>\n",
       "  </thead>\n",
       "  <tbody>\n",
       "    <tr>\n",
       "      <th>0</th>\n",
       "      <td>As U.S. budget fight looms, Republicans flip t...</td>\n",
       "      <td>WASHINGTON (Reuters) - The head of a conservat...</td>\n",
       "      <td>True</td>\n",
       "    </tr>\n",
       "    <tr>\n",
       "      <th>1</th>\n",
       "      <td>U.S. military to accept transgender recruits o...</td>\n",
       "      <td>WASHINGTON (Reuters) - Transgender people will...</td>\n",
       "      <td>True</td>\n",
       "    </tr>\n",
       "    <tr>\n",
       "      <th>2</th>\n",
       "      <td>Senior U.S. Republican senator: 'Let Mr. Muell...</td>\n",
       "      <td>WASHINGTON (Reuters) - The special counsel inv...</td>\n",
       "      <td>True</td>\n",
       "    </tr>\n",
       "    <tr>\n",
       "      <th>3</th>\n",
       "      <td>FBI Russia probe helped by Australian diplomat...</td>\n",
       "      <td>WASHINGTON (Reuters) - Trump campaign adviser ...</td>\n",
       "      <td>True</td>\n",
       "    </tr>\n",
       "    <tr>\n",
       "      <th>4</th>\n",
       "      <td>Trump wants Postal Service to charge 'much mor...</td>\n",
       "      <td>SEATTLE/WASHINGTON (Reuters) - President Donal...</td>\n",
       "      <td>True</td>\n",
       "    </tr>\n",
       "  </tbody>\n",
       "</table>\n",
       "</div>"
      ],
      "text/plain": [
       "                                               title  \\\n",
       "0  As U.S. budget fight looms, Republicans flip t...   \n",
       "1  U.S. military to accept transgender recruits o...   \n",
       "2  Senior U.S. Republican senator: 'Let Mr. Muell...   \n",
       "3  FBI Russia probe helped by Australian diplomat...   \n",
       "4  Trump wants Postal Service to charge 'much mor...   \n",
       "\n",
       "                                                text  news_type  \n",
       "0  WASHINGTON (Reuters) - The head of a conservat...       True  \n",
       "1  WASHINGTON (Reuters) - Transgender people will...       True  \n",
       "2  WASHINGTON (Reuters) - The special counsel inv...       True  \n",
       "3  WASHINGTON (Reuters) - Trump campaign adviser ...       True  \n",
       "4  SEATTLE/WASHINGTON (Reuters) - President Donal...       True  "
      ]
     },
     "execution_count": 23,
     "metadata": {},
     "output_type": "execute_result"
    }
   ],
   "source": [
    "true_df = pd.read_csv('True.csv',skipinitialspace=True)\n",
    "true_df = pd.DataFrame({'title':true_df.title,'text':true_df.text,'news_type':True})\n",
    "true_df.head(5)"
   ]
  },
  {
   "cell_type": "markdown",
   "id": "19cb7a03",
   "metadata": {},
   "source": [
    "#### 3B"
   ]
  },
  {
   "cell_type": "code",
   "execution_count": 24,
   "id": "5b80ecc0",
   "metadata": {},
   "outputs": [
    {
     "data": {
      "text/html": [
       "<div>\n",
       "<style scoped>\n",
       "    .dataframe tbody tr th:only-of-type {\n",
       "        vertical-align: middle;\n",
       "    }\n",
       "\n",
       "    .dataframe tbody tr th {\n",
       "        vertical-align: top;\n",
       "    }\n",
       "\n",
       "    .dataframe thead th {\n",
       "        text-align: right;\n",
       "    }\n",
       "</style>\n",
       "<table border=\"1\" class=\"dataframe\">\n",
       "  <thead>\n",
       "    <tr style=\"text-align: right;\">\n",
       "      <th></th>\n",
       "      <th>title</th>\n",
       "      <th>text</th>\n",
       "      <th>news_type</th>\n",
       "    </tr>\n",
       "  </thead>\n",
       "  <tbody>\n",
       "    <tr>\n",
       "      <th>0</th>\n",
       "      <td>Donald Trump Sends Out Embarrassing New Year’s...</td>\n",
       "      <td>Donald Trump just couldn t wish all Americans ...</td>\n",
       "      <td>False</td>\n",
       "    </tr>\n",
       "    <tr>\n",
       "      <th>1</th>\n",
       "      <td>Drunk Bragging Trump Staffer Started Russian C...</td>\n",
       "      <td>House Intelligence Committee Chairman Devin Nu...</td>\n",
       "      <td>False</td>\n",
       "    </tr>\n",
       "    <tr>\n",
       "      <th>2</th>\n",
       "      <td>Sheriff David Clarke Becomes An Internet Joke ...</td>\n",
       "      <td>On Friday, it was revealed that former Milwauk...</td>\n",
       "      <td>False</td>\n",
       "    </tr>\n",
       "    <tr>\n",
       "      <th>3</th>\n",
       "      <td>Trump Is So Obsessed He Even Has Obama’s Name ...</td>\n",
       "      <td>On Christmas day, Donald Trump announced that ...</td>\n",
       "      <td>False</td>\n",
       "    </tr>\n",
       "    <tr>\n",
       "      <th>4</th>\n",
       "      <td>Pope Francis Just Called Out Donald Trump Duri...</td>\n",
       "      <td>Pope Francis used his annual Christmas Day mes...</td>\n",
       "      <td>False</td>\n",
       "    </tr>\n",
       "  </tbody>\n",
       "</table>\n",
       "</div>"
      ],
      "text/plain": [
       "                                               title  \\\n",
       "0  Donald Trump Sends Out Embarrassing New Year’s...   \n",
       "1  Drunk Bragging Trump Staffer Started Russian C...   \n",
       "2  Sheriff David Clarke Becomes An Internet Joke ...   \n",
       "3  Trump Is So Obsessed He Even Has Obama’s Name ...   \n",
       "4  Pope Francis Just Called Out Donald Trump Duri...   \n",
       "\n",
       "                                                text  news_type  \n",
       "0  Donald Trump just couldn t wish all Americans ...      False  \n",
       "1  House Intelligence Committee Chairman Devin Nu...      False  \n",
       "2  On Friday, it was revealed that former Milwauk...      False  \n",
       "3  On Christmas day, Donald Trump announced that ...      False  \n",
       "4  Pope Francis used his annual Christmas Day mes...      False  "
      ]
     },
     "execution_count": 24,
     "metadata": {},
     "output_type": "execute_result"
    }
   ],
   "source": [
    "fake_df = pd.read_csv('Fake.csv',skipinitialspace=True)\n",
    "fake_df = pd.DataFrame({'title':fake_df.title,'text':fake_df.text,'news_type':False})\n",
    "fake_df.head(5)"
   ]
  },
  {
   "cell_type": "markdown",
   "id": "abaeaaf4",
   "metadata": {},
   "source": [
    "#### 3C"
   ]
  },
  {
   "cell_type": "code",
   "execution_count": 28,
   "id": "fbb02623",
   "metadata": {},
   "outputs": [
    {
     "data": {
      "text/html": [
       "<div>\n",
       "<style scoped>\n",
       "    .dataframe tbody tr th:only-of-type {\n",
       "        vertical-align: middle;\n",
       "    }\n",
       "\n",
       "    .dataframe tbody tr th {\n",
       "        vertical-align: top;\n",
       "    }\n",
       "\n",
       "    .dataframe thead th {\n",
       "        text-align: right;\n",
       "    }\n",
       "</style>\n",
       "<table border=\"1\" class=\"dataframe\">\n",
       "  <thead>\n",
       "    <tr style=\"text-align: right;\">\n",
       "      <th></th>\n",
       "      <th>news_type</th>\n",
       "      <th>news</th>\n",
       "    </tr>\n",
       "  </thead>\n",
       "  <tbody>\n",
       "    <tr>\n",
       "      <th>0</th>\n",
       "      <td>True</td>\n",
       "      <td>As U.S. budget fight looms, Republicans flip t...</td>\n",
       "    </tr>\n",
       "    <tr>\n",
       "      <th>1</th>\n",
       "      <td>True</td>\n",
       "      <td>U.S. military to accept transgender recruits o...</td>\n",
       "    </tr>\n",
       "    <tr>\n",
       "      <th>2</th>\n",
       "      <td>True</td>\n",
       "      <td>Senior U.S. Republican senator: 'Let Mr. Muell...</td>\n",
       "    </tr>\n",
       "    <tr>\n",
       "      <th>3</th>\n",
       "      <td>True</td>\n",
       "      <td>FBI Russia probe helped by Australian diplomat...</td>\n",
       "    </tr>\n",
       "    <tr>\n",
       "      <th>4</th>\n",
       "      <td>True</td>\n",
       "      <td>Trump wants Postal Service to charge 'much mor...</td>\n",
       "    </tr>\n",
       "  </tbody>\n",
       "</table>\n",
       "</div>"
      ],
      "text/plain": [
       "   news_type                                               news\n",
       "0       True  As U.S. budget fight looms, Republicans flip t...\n",
       "1       True  U.S. military to accept transgender recruits o...\n",
       "2       True  Senior U.S. Republican senator: 'Let Mr. Muell...\n",
       "3       True  FBI Russia probe helped by Australian diplomat...\n",
       "4       True  Trump wants Postal Service to charge 'much mor..."
      ]
     },
     "execution_count": 28,
     "metadata": {},
     "output_type": "execute_result"
    }
   ],
   "source": [
    "news_df = pd.concat([true_df, fake_df], ignore_index=True)\n",
    "news_df['news'] = news_df['title'].str.cat(news_df['text'], sep=' ')\n",
    "news_df.drop(['title', 'text'], axis=1, inplace=True)\n",
    "news_df.head()"
   ]
  },
  {
   "cell_type": "markdown",
   "id": "e05c37f9",
   "metadata": {},
   "source": [
    "#### 3D"
   ]
  },
  {
   "cell_type": "code",
   "execution_count": 35,
   "id": "1b7de85f",
   "metadata": {},
   "outputs": [],
   "source": [
    "sw = set(stopwords.words('english'))\n",
    "def clean(text, stopwords):\n",
    "    text = re.sub(r'<[^<>]*>',' ',text)\n",
    "    text_list = text.split()\n",
    "    text_words = list()\n",
    "    \n",
    "    punctuation = set(string.punctuation)\n",
    "    \n",
    "    for word in text_list:\n",
    "        while len(word) > 0 and word[0] in punctuation:\n",
    "            word = word[1:]\n",
    "        while len(word) > 0 and word[-1] in punctuation:\n",
    "            word = word[:-1]\n",
    "        if len(word) > 0 and '/' not in word:\n",
    "            if word.lower() not in stopwords:\n",
    "                text_words.append(word.lower())\n",
    "        clean_text = ' '.join(text_words)\n",
    "        \n",
    "    return clean_text"
   ]
  },
  {
   "cell_type": "code",
   "execution_count": 36,
   "id": "df2f78c0",
   "metadata": {},
   "outputs": [
    {
     "data": {
      "text/plain": [
       "'Senator Franken, facing resignation calls, to make announcement on Thursday: office (Reuters) - U.S Democratic Senator Al Franken will make an announcement on Thursday, his office said, after several Democratic senators called for him to step down in light of allegations of sexual misconduct against him.  His office offered no further details in a brief statement on Wednesday. '"
      ]
     },
     "execution_count": 36,
     "metadata": {},
     "output_type": "execute_result"
    }
   ],
   "source": [
    "news_df.news[302]"
   ]
  },
  {
   "cell_type": "code",
   "execution_count": 37,
   "id": "96fa6b49",
   "metadata": {},
   "outputs": [
    {
     "data": {
      "text/plain": [
       "'senator franken facing resignation calls make announcement thursday office reuters u.s democratic senator al franken make announcement thursday office said several democratic senators called step light allegations sexual misconduct office offered details brief statement wednesday'"
      ]
     },
     "execution_count": 37,
     "metadata": {},
     "output_type": "execute_result"
    }
   ],
   "source": [
    "clean(news_df.news[302],sw)"
   ]
  },
  {
   "cell_type": "code",
   "execution_count": 38,
   "id": "4edcb4ca",
   "metadata": {},
   "outputs": [
    {
     "data": {
      "text/html": [
       "<div>\n",
       "<style scoped>\n",
       "    .dataframe tbody tr th:only-of-type {\n",
       "        vertical-align: middle;\n",
       "    }\n",
       "\n",
       "    .dataframe tbody tr th {\n",
       "        vertical-align: top;\n",
       "    }\n",
       "\n",
       "    .dataframe thead th {\n",
       "        text-align: right;\n",
       "    }\n",
       "</style>\n",
       "<table border=\"1\" class=\"dataframe\">\n",
       "  <thead>\n",
       "    <tr style=\"text-align: right;\">\n",
       "      <th></th>\n",
       "      <th>news_type</th>\n",
       "      <th>news</th>\n",
       "    </tr>\n",
       "  </thead>\n",
       "  <tbody>\n",
       "    <tr>\n",
       "      <th>0</th>\n",
       "      <td>True</td>\n",
       "      <td>u.s budget fight looms republicans flip fiscal...</td>\n",
       "    </tr>\n",
       "    <tr>\n",
       "      <th>1</th>\n",
       "      <td>True</td>\n",
       "      <td>u.s military accept transgender recruits monda...</td>\n",
       "    </tr>\n",
       "    <tr>\n",
       "      <th>2</th>\n",
       "      <td>True</td>\n",
       "      <td>senior u.s republican senator let mr mueller j...</td>\n",
       "    </tr>\n",
       "    <tr>\n",
       "      <th>3</th>\n",
       "      <td>True</td>\n",
       "      <td>fbi russia probe helped australian diplomat ti...</td>\n",
       "    </tr>\n",
       "    <tr>\n",
       "      <th>4</th>\n",
       "      <td>True</td>\n",
       "      <td>trump wants postal service charge much amazon ...</td>\n",
       "    </tr>\n",
       "  </tbody>\n",
       "</table>\n",
       "</div>"
      ],
      "text/plain": [
       "   news_type                                               news\n",
       "0       True  u.s budget fight looms republicans flip fiscal...\n",
       "1       True  u.s military accept transgender recruits monda...\n",
       "2       True  senior u.s republican senator let mr mueller j...\n",
       "3       True  fbi russia probe helped australian diplomat ti...\n",
       "4       True  trump wants postal service charge much amazon ..."
      ]
     },
     "execution_count": 38,
     "metadata": {},
     "output_type": "execute_result"
    }
   ],
   "source": [
    "news_df.dropna(inplace=True)\n",
    "news_df.news = news_df.news.apply(clean,stopwords=sw)\n",
    "mask = news_df.news.str.len() > 50\n",
    "news_df = news_df[mask]\n",
    "news_df.head()"
   ]
  },
  {
   "cell_type": "markdown",
   "id": "402176ef",
   "metadata": {},
   "source": [
    "#### 3E"
   ]
  },
  {
   "cell_type": "code",
   "execution_count": 39,
   "id": "7790ec5d",
   "metadata": {},
   "outputs": [],
   "source": [
    "tfidf = TfidfVectorizer(ngram_range=(1,2),stop_words='english',min_df=10,max_features=None)\n",
    "\n",
    "X = news_df.news\n",
    "y=news_df[\"news_type\"]"
   ]
  },
  {
   "cell_type": "markdown",
   "id": "5b1f6b7a",
   "metadata": {},
   "source": [
    "#### 3F"
   ]
  },
  {
   "cell_type": "code",
   "execution_count": 40,
   "id": "6e235569",
   "metadata": {},
   "outputs": [],
   "source": [
    "X_train,X_test,y_train,y_test = train_test_split(X,y,test_size=.3)\n",
    "\n",
    "X_train_tfidf = tfidf.fit_transform(X_train)\n",
    "X_test_tfidf = tfidf.transform(X_test)"
   ]
  },
  {
   "cell_type": "markdown",
   "id": "59240aca",
   "metadata": {},
   "source": [
    "#### 3G"
   ]
  },
  {
   "cell_type": "code",
   "execution_count": 55,
   "id": "e594283d",
   "metadata": {},
   "outputs": [
    {
     "name": "stdout",
     "output_type": "stream",
     "text": [
      "Train: 0.9558030669895077\n",
      "Test: 0.9508097928436912\n"
     ]
    }
   ],
   "source": [
    "model = MultinomialNB()\n",
    "model.fit(X_train_tfidf,y_train)\n",
    "MultinomialNB()\n",
    "print('Train:',model.score(X_train_tfidf,y_train))\n",
    "print('Test:',model.score(X_test_tfidf,y_test))"
   ]
  },
  {
   "cell_type": "markdown",
   "id": "b72272a0",
   "metadata": {},
   "source": [
    "#### 3H"
   ]
  },
  {
   "cell_type": "code",
   "execution_count": 59,
   "id": "26ffcbd3",
   "metadata": {},
   "outputs": [
    {
     "name": "stdout",
     "output_type": "stream",
     "text": [
      "Avg cross val scores: 0.9479257465698143\n",
      "Std cross val scores 0.0018050247939944391\n"
     ]
    }
   ],
   "source": [
    "scores = cross_val_score(estimator=MultinomialNB(),X=X_train_tfidf,y=y_train,cv=5)\n",
    "print('Avg cross val scores:',scores.mean())\n",
    "print('Std cross val scores',scores.std())"
   ]
  },
  {
   "cell_type": "markdown",
   "id": "0e03d74a",
   "metadata": {},
   "source": [
    "#### 3I"
   ]
  },
  {
   "cell_type": "code",
   "execution_count": 41,
   "id": "d704e0b3",
   "metadata": {},
   "outputs": [
    {
     "data": {
      "text/plain": [
       "{'alpha': 1.0, 'class_prior': None, 'fit_prior': True}"
      ]
     },
     "execution_count": 41,
     "metadata": {},
     "output_type": "execute_result"
    }
   ],
   "source": [
    "MultinomialNB().get_params()"
   ]
  },
  {
   "cell_type": "code",
   "execution_count": 42,
   "id": "307f5746",
   "metadata": {},
   "outputs": [
    {
     "data": {
      "text/plain": [
       "GridSearchCV(cv=5,\n",
       "             estimator=Pipeline(steps=[('tfidf',\n",
       "                                        TfidfVectorizer(stop_words='english')),\n",
       "                                       ('nb', MultinomialNB())]),\n",
       "             param_grid=[{'nb__alpha': [0.6, 1.1], 'tfidf__min_df': [6, 11, 21],\n",
       "                          'tfidf__ngram_range': [(1, 1), (1, 2)],\n",
       "                          'tfidf__norm': ['l1', 'l2']}])"
      ]
     },
     "execution_count": 42,
     "metadata": {},
     "output_type": "execute_result"
    }
   ],
   "source": [
    "pipe = Pipeline([('tfidf',TfidfVectorizer(stop_words='english')),('nb',MultinomialNB())])\n",
    "param_grid = [{'tfidf__min_df':[6,11,21],'tfidf__ngram_range':[(1,1),(1,2)],'tfidf__norm':['l1','l2'],\n",
    "              'nb__alpha':[0.6,1.1]}]\n",
    "grid = GridSearchCV(estimator=pipe,param_grid=param_grid,cv=5)\n",
    "grid.fit(X_train,y_train)"
   ]
  },
  {
   "cell_type": "code",
   "execution_count": 44,
   "id": "898032ad",
   "metadata": {},
   "outputs": [
    {
     "data": {
      "text/plain": [
       "{'nb__alpha': 0.6,\n",
       " 'tfidf__min_df': 6,\n",
       " 'tfidf__ngram_range': (1, 2),\n",
       " 'tfidf__norm': 'l2'}"
      ]
     },
     "execution_count": 44,
     "metadata": {},
     "output_type": "execute_result"
    }
   ],
   "source": [
    "grid.best_params_"
   ]
  },
  {
   "cell_type": "code",
   "execution_count": 45,
   "id": "78cdacaa",
   "metadata": {},
   "outputs": [
    {
     "data": {
      "text/plain": [
       "0.964681194511703"
      ]
     },
     "execution_count": 45,
     "metadata": {},
     "output_type": "execute_result"
    }
   ],
   "source": [
    "grid.score(X_train,y_train)"
   ]
  }
 ],
 "metadata": {
  "kernelspec": {
   "display_name": "Python 3 (ipykernel)",
   "language": "python",
   "name": "python3"
  },
  "language_info": {
   "codemirror_mode": {
    "name": "ipython",
    "version": 3
   },
   "file_extension": ".py",
   "mimetype": "text/x-python",
   "name": "python",
   "nbconvert_exporter": "python",
   "pygments_lexer": "ipython3",
   "version": "3.9.12"
  }
 },
 "nbformat": 4,
 "nbformat_minor": 5
}
