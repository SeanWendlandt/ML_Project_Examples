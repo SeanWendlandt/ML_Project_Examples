{
 "cells": [
  {
   "cell_type": "markdown",
   "id": "9d242fe9",
   "metadata": {},
   "source": [
    "### Sean Wendlandt Assignment 4 4/29/23"
   ]
  },
  {
   "cell_type": "code",
   "execution_count": 2,
   "id": "cbc4d4f8",
   "metadata": {},
   "outputs": [],
   "source": [
    "# Sean Wendlandt 5/2/23\n",
    "import numpy as np \n",
    "import pandas as pd \n",
    "from matplotlib import pyplot as plt\n",
    "from sklearn.neighbors import KNeighborsClassifier, KNeighborsRegressor\n",
    "from sklearn.model_selection import GridSearchCV, train_test_split\n",
    "from sklearn.ensemble import RandomForestRegressor, RandomForestClassifier\n",
    "from sklearn.metrics import mean_squared_error\n",
    "from sklearn.pipeline import Pipeline\n",
    "from sklearn.preprocessing import StandardScaler"
   ]
  },
  {
   "cell_type": "markdown",
   "id": "85409146",
   "metadata": {},
   "source": [
    "#### 1A"
   ]
  },
  {
   "cell_type": "code",
   "execution_count": 3,
   "id": "b014f91b",
   "metadata": {},
   "outputs": [],
   "source": [
    "delivery_train = pd.read_csv('delivery_time_train_data.csv')\n",
    "delivery_test = pd.read_csv('delivery_time_test_data.csv')\n",
    "student_train = pd.read_csv('student_train_data.csv')\n",
    "student_test = pd.read_csv('student_test_data.csv')"
   ]
  },
  {
   "cell_type": "code",
   "execution_count": 4,
   "id": "54cc3005",
   "metadata": {},
   "outputs": [
    {
     "data": {
      "text/html": [
       "<div>\n",
       "<style scoped>\n",
       "    .dataframe tbody tr th:only-of-type {\n",
       "        vertical-align: middle;\n",
       "    }\n",
       "\n",
       "    .dataframe tbody tr th {\n",
       "        vertical-align: top;\n",
       "    }\n",
       "\n",
       "    .dataframe thead th {\n",
       "        text-align: right;\n",
       "    }\n",
       "</style>\n",
       "<table border=\"1\" class=\"dataframe\">\n",
       "  <thead>\n",
       "    <tr style=\"text-align: right;\">\n",
       "      <th></th>\n",
       "      <th>Miles</th>\n",
       "      <th>Deliveries</th>\n",
       "      <th>Time</th>\n",
       "    </tr>\n",
       "  </thead>\n",
       "  <tbody>\n",
       "    <tr>\n",
       "      <th>0</th>\n",
       "      <td>100</td>\n",
       "      <td>4</td>\n",
       "      <td>9.3</td>\n",
       "    </tr>\n",
       "    <tr>\n",
       "      <th>1</th>\n",
       "      <td>50</td>\n",
       "      <td>3</td>\n",
       "      <td>4.8</td>\n",
       "    </tr>\n",
       "    <tr>\n",
       "      <th>2</th>\n",
       "      <td>100</td>\n",
       "      <td>4</td>\n",
       "      <td>8.9</td>\n",
       "    </tr>\n",
       "    <tr>\n",
       "      <th>3</th>\n",
       "      <td>100</td>\n",
       "      <td>2</td>\n",
       "      <td>6.5</td>\n",
       "    </tr>\n",
       "    <tr>\n",
       "      <th>4</th>\n",
       "      <td>50</td>\n",
       "      <td>2</td>\n",
       "      <td>4.2</td>\n",
       "    </tr>\n",
       "  </tbody>\n",
       "</table>\n",
       "</div>"
      ],
      "text/plain": [
       "   Miles  Deliveries  Time\n",
       "0    100           4   9.3\n",
       "1     50           3   4.8\n",
       "2    100           4   8.9\n",
       "3    100           2   6.5\n",
       "4     50           2   4.2"
      ]
     },
     "execution_count": 4,
     "metadata": {},
     "output_type": "execute_result"
    }
   ],
   "source": [
    "delivery_train.head()"
   ]
  },
  {
   "cell_type": "code",
   "execution_count": 5,
   "id": "e5fbd9d8",
   "metadata": {},
   "outputs": [
    {
     "data": {
      "text/html": [
       "<div>\n",
       "<style scoped>\n",
       "    .dataframe tbody tr th:only-of-type {\n",
       "        vertical-align: middle;\n",
       "    }\n",
       "\n",
       "    .dataframe tbody tr th {\n",
       "        vertical-align: top;\n",
       "    }\n",
       "\n",
       "    .dataframe thead th {\n",
       "        text-align: right;\n",
       "    }\n",
       "</style>\n",
       "<table border=\"1\" class=\"dataframe\">\n",
       "  <thead>\n",
       "    <tr style=\"text-align: right;\">\n",
       "      <th></th>\n",
       "      <th>Miles</th>\n",
       "      <th>Deliveries</th>\n",
       "      <th>Time</th>\n",
       "    </tr>\n",
       "  </thead>\n",
       "  <tbody>\n",
       "    <tr>\n",
       "      <th>0</th>\n",
       "      <td>50</td>\n",
       "      <td>3</td>\n",
       "      <td>4.6</td>\n",
       "    </tr>\n",
       "    <tr>\n",
       "      <th>1</th>\n",
       "      <td>65</td>\n",
       "      <td>2</td>\n",
       "      <td>5.5</td>\n",
       "    </tr>\n",
       "    <tr>\n",
       "      <th>2</th>\n",
       "      <td>80</td>\n",
       "      <td>1</td>\n",
       "      <td>6.3</td>\n",
       "    </tr>\n",
       "    <tr>\n",
       "      <th>3</th>\n",
       "      <td>70</td>\n",
       "      <td>1</td>\n",
       "      <td>6.2</td>\n",
       "    </tr>\n",
       "    <tr>\n",
       "      <th>4</th>\n",
       "      <td>70</td>\n",
       "      <td>5</td>\n",
       "      <td>8.5</td>\n",
       "    </tr>\n",
       "  </tbody>\n",
       "</table>\n",
       "</div>"
      ],
      "text/plain": [
       "   Miles  Deliveries  Time\n",
       "0     50           3   4.6\n",
       "1     65           2   5.5\n",
       "2     80           1   6.3\n",
       "3     70           1   6.2\n",
       "4     70           5   8.5"
      ]
     },
     "execution_count": 5,
     "metadata": {},
     "output_type": "execute_result"
    }
   ],
   "source": [
    "delivery_test.head()"
   ]
  },
  {
   "cell_type": "code",
   "execution_count": 6,
   "id": "50e1edf5",
   "metadata": {},
   "outputs": [
    {
     "data": {
      "text/html": [
       "<div>\n",
       "<style scoped>\n",
       "    .dataframe tbody tr th:only-of-type {\n",
       "        vertical-align: middle;\n",
       "    }\n",
       "\n",
       "    .dataframe tbody tr th {\n",
       "        vertical-align: top;\n",
       "    }\n",
       "\n",
       "    .dataframe thead th {\n",
       "        text-align: right;\n",
       "    }\n",
       "</style>\n",
       "<table border=\"1\" class=\"dataframe\">\n",
       "  <thead>\n",
       "    <tr style=\"text-align: right;\">\n",
       "      <th></th>\n",
       "      <th>GPA</th>\n",
       "      <th>Age</th>\n",
       "      <th>Dropped</th>\n",
       "    </tr>\n",
       "  </thead>\n",
       "  <tbody>\n",
       "    <tr>\n",
       "      <th>0</th>\n",
       "      <td>3.78</td>\n",
       "      <td>21</td>\n",
       "      <td>0</td>\n",
       "    </tr>\n",
       "    <tr>\n",
       "      <th>1</th>\n",
       "      <td>2.38</td>\n",
       "      <td>27</td>\n",
       "      <td>0</td>\n",
       "    </tr>\n",
       "    <tr>\n",
       "      <th>2</th>\n",
       "      <td>3.05</td>\n",
       "      <td>21</td>\n",
       "      <td>1</td>\n",
       "    </tr>\n",
       "    <tr>\n",
       "      <th>3</th>\n",
       "      <td>2.19</td>\n",
       "      <td>28</td>\n",
       "      <td>1</td>\n",
       "    </tr>\n",
       "    <tr>\n",
       "      <th>4</th>\n",
       "      <td>3.22</td>\n",
       "      <td>23</td>\n",
       "      <td>0</td>\n",
       "    </tr>\n",
       "  </tbody>\n",
       "</table>\n",
       "</div>"
      ],
      "text/plain": [
       "    GPA  Age  Dropped\n",
       "0  3.78   21        0\n",
       "1  2.38   27        0\n",
       "2  3.05   21        1\n",
       "3  2.19   28        1\n",
       "4  3.22   23        0"
      ]
     },
     "execution_count": 6,
     "metadata": {},
     "output_type": "execute_result"
    }
   ],
   "source": [
    "student_train.head()"
   ]
  },
  {
   "cell_type": "code",
   "execution_count": 7,
   "id": "1e93ebbe",
   "metadata": {},
   "outputs": [
    {
     "data": {
      "text/html": [
       "<div>\n",
       "<style scoped>\n",
       "    .dataframe tbody tr th:only-of-type {\n",
       "        vertical-align: middle;\n",
       "    }\n",
       "\n",
       "    .dataframe tbody tr th {\n",
       "        vertical-align: top;\n",
       "    }\n",
       "\n",
       "    .dataframe thead th {\n",
       "        text-align: right;\n",
       "    }\n",
       "</style>\n",
       "<table border=\"1\" class=\"dataframe\">\n",
       "  <thead>\n",
       "    <tr style=\"text-align: right;\">\n",
       "      <th></th>\n",
       "      <th>GPA</th>\n",
       "      <th>Age</th>\n",
       "      <th>Dropped</th>\n",
       "    </tr>\n",
       "  </thead>\n",
       "  <tbody>\n",
       "    <tr>\n",
       "      <th>0</th>\n",
       "      <td>2.49</td>\n",
       "      <td>26</td>\n",
       "      <td>1</td>\n",
       "    </tr>\n",
       "    <tr>\n",
       "      <th>1</th>\n",
       "      <td>2.67</td>\n",
       "      <td>29</td>\n",
       "      <td>0</td>\n",
       "    </tr>\n",
       "    <tr>\n",
       "      <th>2</th>\n",
       "      <td>2.86</td>\n",
       "      <td>29</td>\n",
       "      <td>1</td>\n",
       "    </tr>\n",
       "    <tr>\n",
       "      <th>3</th>\n",
       "      <td>2.21</td>\n",
       "      <td>26</td>\n",
       "      <td>0</td>\n",
       "    </tr>\n",
       "    <tr>\n",
       "      <th>4</th>\n",
       "      <td>2.91</td>\n",
       "      <td>20</td>\n",
       "      <td>1</td>\n",
       "    </tr>\n",
       "  </tbody>\n",
       "</table>\n",
       "</div>"
      ],
      "text/plain": [
       "    GPA  Age  Dropped\n",
       "0  2.49   26        1\n",
       "1  2.67   29        0\n",
       "2  2.86   29        1\n",
       "3  2.21   26        0\n",
       "4  2.91   20        1"
      ]
     },
     "execution_count": 7,
     "metadata": {},
     "output_type": "execute_result"
    }
   ],
   "source": [
    "student_test.head()"
   ]
  },
  {
   "cell_type": "markdown",
   "id": "2ca0cf09",
   "metadata": {},
   "source": [
    "#### 1B"
   ]
  },
  {
   "cell_type": "code",
   "execution_count": 8,
   "id": "d45c3ce9",
   "metadata": {},
   "outputs": [],
   "source": [
    "X_delivery_train = delivery_train[['Miles','Deliveries']]\n",
    "y_delivery_train = delivery_train['Time']\n",
    "\n",
    "X_delivery_test = delivery_test[['Miles','Deliveries']]\n",
    "y_delivery_test = delivery_test['Time']\n",
    "\n",
    "X_student_train = student_train[['GPA','Age']]\n",
    "y_student_train = student_train['Dropped']\n",
    "\n",
    "X_student_test = student_test[['GPA','Age']]\n",
    "y_student_test = student_test['Dropped']"
   ]
  },
  {
   "cell_type": "code",
   "execution_count": 9,
   "id": "045f9b77",
   "metadata": {},
   "outputs": [
    {
     "name": "stdout",
     "output_type": "stream",
     "text": [
      "(199, 2)\n",
      "(199,)\n",
      "(101, 2)\n",
      "(101,)\n",
      "(400, 2)\n",
      "(400,)\n",
      "(100, 2)\n",
      "(100,)\n"
     ]
    }
   ],
   "source": [
    "print(X_delivery_train.shape)\n",
    "print(y_delivery_train.shape)\n",
    "print(X_delivery_test.shape)\n",
    "print(y_delivery_test.shape)\n",
    "print(X_student_train.shape)\n",
    "print(y_student_train.shape)\n",
    "print(X_student_test.shape)\n",
    "print(y_student_test.shape)"
   ]
  },
  {
   "cell_type": "markdown",
   "id": "09eb08f7",
   "metadata": {},
   "source": [
    "#### 1C"
   ]
  },
  {
   "cell_type": "code",
   "execution_count": 10,
   "id": "02e1ab60",
   "metadata": {},
   "outputs": [],
   "source": [
    "def dist(a,b):\n",
    "    return np.sqrt( (b[1]-a[1])**2 + (b[0]-a[0])**2)\n",
    "\n",
    "def knn_predict(X_train,y_train,X_test, k=5):\n",
    "    y_pred = list()\n",
    "    for i in range(len(X_test)):\n",
    "        dist_lst = list()\n",
    "        for j in range(len(y_train)):\n",
    "            dist_lst.append(dist(X_test.iloc[i],X_train.iloc[j]))\n",
    "        temp_df = pd.DataFrame({'Train':y_train,'Dist':dist_lst})\n",
    "        temp_df.sort_values(by='Dist',inplace=True)\n",
    "        y_pred.append(np.mean(temp_df['Train'][:k]))\n",
    "    return y_pred"
   ]
  },
  {
   "cell_type": "code",
   "execution_count": 11,
   "id": "4ee3253e",
   "metadata": {},
   "outputs": [],
   "source": [
    "y_delivery_test_pred = knn_predict(X_delivery_train,y_delivery_train,X_delivery_test)\n",
    "#print(y_delivery_test_pred)"
   ]
  },
  {
   "cell_type": "markdown",
   "id": "b07c1c9b",
   "metadata": {},
   "source": [
    "#### 1D"
   ]
  },
  {
   "cell_type": "code",
   "execution_count": 12,
   "id": "fc4e1168",
   "metadata": {},
   "outputs": [],
   "source": [
    "def mse(actual,pred):\n",
    "    tot_err = 0\n",
    "    n = len(actual)\n",
    "    for i in range(n):\n",
    "        tot_err += (actual[i] - pred[i])**2\n",
    "    return tot_err/n"
   ]
  },
  {
   "cell_type": "code",
   "execution_count": 13,
   "id": "c3f11960",
   "metadata": {},
   "outputs": [
    {
     "data": {
      "text/plain": [
       "1.0977544554455447"
      ]
     },
     "execution_count": 13,
     "metadata": {},
     "output_type": "execute_result"
    }
   ],
   "source": [
    "mse(y_delivery_test,y_delivery_test_pred)"
   ]
  },
  {
   "cell_type": "markdown",
   "id": "f60b512f",
   "metadata": {},
   "source": [
    "#### 1E"
   ]
  },
  {
   "cell_type": "code",
   "execution_count": 14,
   "id": "d285d955",
   "metadata": {},
   "outputs": [],
   "source": [
    "y_delivery_train_pred = knn_predict(X_delivery_train,y_delivery_train,X_delivery_train)"
   ]
  },
  {
   "cell_type": "code",
   "execution_count": 15,
   "id": "b114c6c4",
   "metadata": {},
   "outputs": [
    {
     "data": {
      "text/plain": [
       "0.5889105527638189"
      ]
     },
     "execution_count": 15,
     "metadata": {},
     "output_type": "execute_result"
    }
   ],
   "source": [
    "mse(y_delivery_train,y_delivery_train_pred)"
   ]
  },
  {
   "cell_type": "markdown",
   "id": "9fece5fe",
   "metadata": {},
   "source": [
    "#### 1F"
   ]
  },
  {
   "cell_type": "code",
   "execution_count": 15,
   "id": "94a35cb7",
   "metadata": {},
   "outputs": [
    {
     "data": {
      "image/png": "[encoded data removed]",
      "text/plain": [
       "<Figure size 432x288 with 1 Axes>"
      ]
     },
     "metadata": {
      "needs_background": "light"
     },
     "output_type": "display_data"
    }
   ],
   "source": [
    "k_vals = [k for k in range(1,51)]\n",
    "delivery_train_mse = []\n",
    "delivery_test_mse = []\n",
    "\n",
    "for k_select in k_vals: \n",
    "    delivery_train_mse.append(mse(knn_predict(X_delivery_train, y_delivery_train, X_delivery_train, k = k_select),y_delivery_train))\n",
    "    delivery_test_mse.append(mse(knn_predict(X_delivery_train, y_delivery_train, X_delivery_test, k = k_select),y_delivery_test))\n",
    "\n",
    "plt.plot(k_vals, delivery_train_mse, label=\"train_mse\")\n",
    "plt.plot(k_vals, delivery_test_mse, label=\"test_mse\")\n",
    "plt.legend()\n",
    "plt.show()"
   ]
  },
  {
   "cell_type": "markdown",
   "id": "95f12c35",
   "metadata": {},
   "source": [
    "#### 1G"
   ]
  },
  {
   "cell_type": "code",
   "execution_count": 16,
   "id": "3c3f8ef8",
   "metadata": {},
   "outputs": [
    {
     "data": {
      "text/plain": [
       "1.142752475247525"
      ]
     },
     "execution_count": 16,
     "metadata": {},
     "output_type": "execute_result"
    }
   ],
   "source": [
    "knr = KNeighborsRegressor()\n",
    "knr.fit(X_delivery_train,y_delivery_train)\n",
    "delivery_pred = knr.predict(X_delivery_test)\n",
    "mean_squared_error(y_delivery_test,delivery_pred)"
   ]
  },
  {
   "cell_type": "markdown",
   "id": "38c4760d",
   "metadata": {},
   "source": [
    "#### 1H"
   ]
  },
  {
   "cell_type": "code",
   "execution_count": 17,
   "id": "60c2bdb2",
   "metadata": {},
   "outputs": [
    {
     "data": {
      "text/plain": [
       "1.0299128712871293"
      ]
     },
     "execution_count": 17,
     "metadata": {},
     "output_type": "execute_result"
    }
   ],
   "source": [
    "from sklearn.pipeline import Pipeline\n",
    "from sklearn.preprocessing import StandardScaler\n",
    "pipe = Pipeline([('scaler', StandardScaler()), ('KNeighbors', KNeighborsRegressor())])\n",
    "pipe.fit(X_delivery_train,y_delivery_train)\n",
    "mean_squared_error(y_delivery_test,pipe.predict(X_delivery_test))"
   ]
  },
  {
   "cell_type": "markdown",
   "id": "ca10f6bc",
   "metadata": {},
   "source": [
    "#### 1I"
   ]
  },
  {
   "cell_type": "code",
   "execution_count": 18,
   "id": "116fc3f7",
   "metadata": {},
   "outputs": [
    {
     "data": {
      "text/plain": [
       "0.9596311518364858"
      ]
     },
     "execution_count": 18,
     "metadata": {},
     "output_type": "execute_result"
    }
   ],
   "source": [
    "from sklearn.ensemble import RandomForestRegressor\n",
    "pipe2 = Pipeline([('scaler', StandardScaler()), ('RandomForest', RandomForestRegressor())])\n",
    "pipe2.fit(X_delivery_train,y_delivery_train)\n",
    "mean_squared_error(y_delivery_test,pipe2.predict(X_delivery_test))"
   ]
  },
  {
   "cell_type": "markdown",
   "id": "f5064194",
   "metadata": {},
   "source": [
    "#### 2A"
   ]
  },
  {
   "cell_type": "code",
   "execution_count": 19,
   "id": "334ae3ca",
   "metadata": {},
   "outputs": [],
   "source": [
    "sc = StandardScaler()\n",
    "X_student_train_std = sc.fit_transform(X_student_train)\n",
    "X_student_test_std = sc.transform(X_student_test)"
   ]
  },
  {
   "cell_type": "code",
   "execution_count": 20,
   "id": "54ecb65b",
   "metadata": {},
   "outputs": [],
   "source": [
    "def knn_predict(X_train,y_train,X_test, k=5):\n",
    "    y_pred = list()\n",
    "    for i in range(len(X_test)):\n",
    "        dist_lst = list()\n",
    "        for j in range(len(y_train)):\n",
    "            dist_lst.append(dist(X_test[i],X_train[j]))\n",
    "        temp_df = pd.DataFrame({'Labels':y_train,'Dist':dist_lst})\n",
    "        temp_df.sort_values(by='Dist',inplace=True)\n",
    "        y_pred.append(max_index(temp_df.iloc[:20]))\n",
    "    return y_pred"
   ]
  },
  {
   "cell_type": "code",
   "execution_count": 21,
   "id": "5323a65e",
   "metadata": {},
   "outputs": [],
   "source": [
    "def max_index(in_df):\n",
    "    dct = {}\n",
    "    for val in in_df['Labels'].unique():\n",
    "        dct[val] = 0\n",
    "    for i in range(len(in_df)):\n",
    "        dct[in_df['Labels'].iloc[i]] += 1 \n",
    "    max_count = 0\n",
    "    max_ind = 0\n",
    "    for key in dct.keys():\n",
    "        if dct[key] > max_count:\n",
    "            max_count = dct[key]\n",
    "            max_ind = key\n",
    "    return(max_ind)"
   ]
  },
  {
   "cell_type": "code",
   "execution_count": 22,
   "id": "cd88a71e",
   "metadata": {},
   "outputs": [],
   "source": [
    "y_student_test_pred = knn_predict(X_student_train_std,\n",
    "                                  y_student_train,X_student_test_std)"
   ]
  },
  {
   "cell_type": "markdown",
   "id": "32f26e76",
   "metadata": {},
   "source": [
    "#### 2B"
   ]
  },
  {
   "cell_type": "code",
   "execution_count": 23,
   "id": "fcf61c9c",
   "metadata": {},
   "outputs": [
    {
     "data": {
      "text/plain": [
       "0.74"
      ]
     },
     "execution_count": 23,
     "metadata": {},
     "output_type": "execute_result"
    }
   ],
   "source": [
    "def overall_accuracy(true,pred):\n",
    "    return list(y_student_test_pred == y_student_test).count(True)/len(true)\n",
    "\n",
    "overall_accuracy(y_student_test,y_student_test_pred)"
   ]
  },
  {
   "cell_type": "markdown",
   "id": "d6ebaf75",
   "metadata": {},
   "source": [
    "#### 2C"
   ]
  },
  {
   "cell_type": "code",
   "execution_count": 31,
   "id": "eba3c46d",
   "metadata": {},
   "outputs": [
    {
     "data": {
      "text/plain": [
       "0.73"
      ]
     },
     "execution_count": 31,
     "metadata": {},
     "output_type": "execute_result"
    }
   ],
   "source": [
    "from sklearn.neighbors import KNeighborsClassifier\n",
    "from sklearn.model_selection import GridSearchCV\n",
    "param_grid = {'n_neighbors':[1,5,10,20, 30, 40 ,50]}\n",
    "knr_gs = GridSearchCV(KNeighborsClassifier(),param_grid)\n",
    "knr_gs.fit(X_student_train_std,y_student_train)\n",
    "knr_gs.best_params_ #40\n",
    "\n",
    "knr_opt = KNeighborsClassifier(n_neighbors = 40)\n",
    "knr_opt.fit(X_student_train_std,y_student_train)\n",
    "knr_y_pred = knr_opt.predict(X_student_test_std)\n",
    "knr_opt.score(X_student_test_std,y_student_test)"
   ]
  },
  {
   "cell_type": "markdown",
   "id": "220f0a22",
   "metadata": {},
   "source": [
    "#### 2D"
   ]
  },
  {
   "cell_type": "code",
   "execution_count": 29,
   "id": "8a735b2f",
   "metadata": {},
   "outputs": [
    {
     "data": {
      "text/plain": [
       "0.77"
      ]
     },
     "execution_count": 29,
     "metadata": {},
     "output_type": "execute_result"
    }
   ],
   "source": [
    "from sklearn.ensemble import RandomForestClassifier\n",
    "forest = RandomForestClassifier(max_depth=2)\n",
    "forest.fit(X_student_train_std,y_student_train)\n",
    "forest.score(X_student_test_std,y_student_test)"
   ]
  },
  {
   "cell_type": "code",
   "execution_count": 30,
   "id": "f7dd0e75",
   "metadata": {},
   "outputs": [
    {
     "data": {
      "text/plain": [
       "0.77"
      ]
     },
     "execution_count": 30,
     "metadata": {},
     "output_type": "execute_result"
    }
   ],
   "source": [
    "from sklearn.ensemble import RandomForestClassifier\n",
    "forest = RandomForestClassifier(max_depth=2)\n",
    "forest.fit(X_student_train,y_student_train)\n",
    "forest.score(X_student_test,y_student_test)"
   ]
  },
  {
   "cell_type": "code",
   "execution_count": null,
   "id": "0ee4e282",
   "metadata": {},
   "outputs": [],
   "source": []
  }
 ],
 "metadata": {
  "kernelspec": {
   "display_name": "Python 3 (ipykernel)",
   "language": "python",
   "name": "python3"
  },
  "language_info": {
   "codemirror_mode": {
    "name": "ipython",
    "version": 3
   },
   "file_extension": ".py",
   "mimetype": "text/x-python",
   "name": "python",
   "nbconvert_exporter": "python",
   "pygments_lexer": "ipython3",
   "version": "3.9.12"
  }
 },
 "nbformat": 4,
 "nbformat_minor": 5
}
