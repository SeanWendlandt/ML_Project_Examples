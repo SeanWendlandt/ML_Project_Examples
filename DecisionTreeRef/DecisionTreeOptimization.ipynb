{
 "cells": [
  {
   "cell_type": "code",
   "execution_count": 21,
   "id": "682c5970",
   "metadata": {},
   "outputs": [],
   "source": [
    "# Sean Wendlandt 4/22/23\n",
    "import pandas as pd\n",
    "import numpy as np\n",
    "import matplotlib.pyplot as plt\n",
    "import seaborn as sns\n",
    "from sklearn.preprocessing import MinMaxScaler\n",
    "from sklearn.model_selection import train_test_split\n",
    "from sklearn.tree import DecisionTreeClassifier\n",
    "from sklearn.model_selection import GridSearchCV\n",
    "from sklearn.metrics import accuracy_score"
   ]
  },
  {
   "cell_type": "markdown",
   "id": "9d56e906",
   "metadata": {},
   "source": [
    "### 1A"
   ]
  },
  {
   "cell_type": "code",
   "execution_count": 24,
   "id": "5d03c7d3",
   "metadata": {},
   "outputs": [],
   "source": [
    "b_r_df = pd.read_csv('BlueOrRed.csv')"
   ]
  },
  {
   "cell_type": "code",
   "execution_count": 25,
   "id": "37d09736",
   "metadata": {},
   "outputs": [
    {
     "data": {
      "text/html": [
       "<div>\n",
       "<style scoped>\n",
       "    .dataframe tbody tr th:only-of-type {\n",
       "        vertical-align: middle;\n",
       "    }\n",
       "\n",
       "    .dataframe tbody tr th {\n",
       "        vertical-align: top;\n",
       "    }\n",
       "\n",
       "    .dataframe thead th {\n",
       "        text-align: right;\n",
       "    }\n",
       "</style>\n",
       "<table border=\"1\" class=\"dataframe\">\n",
       "  <thead>\n",
       "    <tr style=\"text-align: right;\">\n",
       "      <th></th>\n",
       "      <th>Age</th>\n",
       "      <th>HomeOwner</th>\n",
       "      <th>Female</th>\n",
       "      <th>Married</th>\n",
       "      <th>HouseholdSize</th>\n",
       "      <th>Income</th>\n",
       "      <th>Education</th>\n",
       "      <th>Church</th>\n",
       "      <th>Undecided</th>\n",
       "    </tr>\n",
       "  </thead>\n",
       "  <tbody>\n",
       "    <tr>\n",
       "      <th>0</th>\n",
       "      <td>51</td>\n",
       "      <td>1</td>\n",
       "      <td>1</td>\n",
       "      <td>1</td>\n",
       "      <td>4</td>\n",
       "      <td>171.0</td>\n",
       "      <td>15</td>\n",
       "      <td>0</td>\n",
       "      <td>1</td>\n",
       "    </tr>\n",
       "    <tr>\n",
       "      <th>1</th>\n",
       "      <td>46</td>\n",
       "      <td>1</td>\n",
       "      <td>1</td>\n",
       "      <td>1</td>\n",
       "      <td>6</td>\n",
       "      <td>420.0</td>\n",
       "      <td>15</td>\n",
       "      <td>1</td>\n",
       "      <td>0</td>\n",
       "    </tr>\n",
       "    <tr>\n",
       "      <th>2</th>\n",
       "      <td>55</td>\n",
       "      <td>1</td>\n",
       "      <td>0</td>\n",
       "      <td>1</td>\n",
       "      <td>6</td>\n",
       "      <td>132.0</td>\n",
       "      <td>16</td>\n",
       "      <td>0</td>\n",
       "      <td>1</td>\n",
       "    </tr>\n",
       "    <tr>\n",
       "      <th>3</th>\n",
       "      <td>50</td>\n",
       "      <td>1</td>\n",
       "      <td>0</td>\n",
       "      <td>1</td>\n",
       "      <td>4</td>\n",
       "      <td>18.0</td>\n",
       "      <td>8</td>\n",
       "      <td>0</td>\n",
       "      <td>0</td>\n",
       "    </tr>\n",
       "    <tr>\n",
       "      <th>4</th>\n",
       "      <td>49</td>\n",
       "      <td>1</td>\n",
       "      <td>1</td>\n",
       "      <td>1</td>\n",
       "      <td>2</td>\n",
       "      <td>66.0</td>\n",
       "      <td>15</td>\n",
       "      <td>1</td>\n",
       "      <td>1</td>\n",
       "    </tr>\n",
       "  </tbody>\n",
       "</table>\n",
       "</div>"
      ],
      "text/plain": [
       "   Age  HomeOwner  Female  Married  HouseholdSize  Income  Education  Church  \\\n",
       "0   51          1       1        1              4   171.0         15       0   \n",
       "1   46          1       1        1              6   420.0         15       1   \n",
       "2   55          1       0        1              6   132.0         16       0   \n",
       "3   50          1       0        1              4    18.0          8       0   \n",
       "4   49          1       1        1              2    66.0         15       1   \n",
       "\n",
       "   Undecided  \n",
       "0          1  \n",
       "1          0  \n",
       "2          1  \n",
       "3          0  \n",
       "4          1  "
      ]
     },
     "execution_count": 25,
     "metadata": {},
     "output_type": "execute_result"
    }
   ],
   "source": [
    "b_r_df.head()"
   ]
  },
  {
   "cell_type": "code",
   "execution_count": 27,
   "id": "ea03bbd7",
   "metadata": {},
   "outputs": [
    {
     "data": {
      "text/plain": [
       "Age              0\n",
       "HomeOwner        0\n",
       "Female           0\n",
       "Married          0\n",
       "HouseholdSize    0\n",
       "Income           0\n",
       "Education        0\n",
       "Church           0\n",
       "Undecided        0\n",
       "dtype: int64"
      ]
     },
     "execution_count": 27,
     "metadata": {},
     "output_type": "execute_result"
    }
   ],
   "source": [
    "b_r_df.isna().sum()\n",
    "# No missing data but this is how you drop.\n",
    "b_r_df.dropna().isna().sum()"
   ]
  },
  {
   "cell_type": "markdown",
   "id": "0cc00b49",
   "metadata": {},
   "source": [
    "### 1B"
   ]
  },
  {
   "cell_type": "code",
   "execution_count": 28,
   "id": "37b2b94e",
   "metadata": {},
   "outputs": [
    {
     "data": {
      "text/html": [
       "<div>\n",
       "<style scoped>\n",
       "    .dataframe tbody tr th:only-of-type {\n",
       "        vertical-align: middle;\n",
       "    }\n",
       "\n",
       "    .dataframe tbody tr th {\n",
       "        vertical-align: top;\n",
       "    }\n",
       "\n",
       "    .dataframe thead th {\n",
       "        text-align: right;\n",
       "    }\n",
       "</style>\n",
       "<table border=\"1\" class=\"dataframe\">\n",
       "  <thead>\n",
       "    <tr style=\"text-align: right;\">\n",
       "      <th></th>\n",
       "      <th>Age</th>\n",
       "      <th>HomeOwner</th>\n",
       "      <th>Female</th>\n",
       "      <th>Married</th>\n",
       "      <th>HouseholdSize</th>\n",
       "      <th>Income</th>\n",
       "      <th>Education</th>\n",
       "      <th>Church</th>\n",
       "      <th>Undecided</th>\n",
       "    </tr>\n",
       "  </thead>\n",
       "  <tbody>\n",
       "    <tr>\n",
       "      <th>0</th>\n",
       "      <td>0.523810</td>\n",
       "      <td>1</td>\n",
       "      <td>1</td>\n",
       "      <td>1</td>\n",
       "      <td>4</td>\n",
       "      <td>0.306422</td>\n",
       "      <td>15</td>\n",
       "      <td>0</td>\n",
       "      <td>1</td>\n",
       "    </tr>\n",
       "    <tr>\n",
       "      <th>1</th>\n",
       "      <td>0.444444</td>\n",
       "      <td>1</td>\n",
       "      <td>1</td>\n",
       "      <td>1</td>\n",
       "      <td>6</td>\n",
       "      <td>0.763303</td>\n",
       "      <td>15</td>\n",
       "      <td>1</td>\n",
       "      <td>0</td>\n",
       "    </tr>\n",
       "    <tr>\n",
       "      <th>2</th>\n",
       "      <td>0.587302</td>\n",
       "      <td>1</td>\n",
       "      <td>0</td>\n",
       "      <td>1</td>\n",
       "      <td>6</td>\n",
       "      <td>0.234862</td>\n",
       "      <td>16</td>\n",
       "      <td>0</td>\n",
       "      <td>1</td>\n",
       "    </tr>\n",
       "    <tr>\n",
       "      <th>3</th>\n",
       "      <td>0.507937</td>\n",
       "      <td>1</td>\n",
       "      <td>0</td>\n",
       "      <td>1</td>\n",
       "      <td>4</td>\n",
       "      <td>0.025688</td>\n",
       "      <td>8</td>\n",
       "      <td>0</td>\n",
       "      <td>0</td>\n",
       "    </tr>\n",
       "    <tr>\n",
       "      <th>4</th>\n",
       "      <td>0.492063</td>\n",
       "      <td>1</td>\n",
       "      <td>1</td>\n",
       "      <td>1</td>\n",
       "      <td>2</td>\n",
       "      <td>0.113761</td>\n",
       "      <td>15</td>\n",
       "      <td>1</td>\n",
       "      <td>1</td>\n",
       "    </tr>\n",
       "  </tbody>\n",
       "</table>\n",
       "</div>"
      ],
      "text/plain": [
       "        Age  HomeOwner  Female  Married  HouseholdSize    Income  Education  \\\n",
       "0  0.523810          1       1        1              4  0.306422         15   \n",
       "1  0.444444          1       1        1              6  0.763303         15   \n",
       "2  0.587302          1       0        1              6  0.234862         16   \n",
       "3  0.507937          1       0        1              4  0.025688          8   \n",
       "4  0.492063          1       1        1              2  0.113761         15   \n",
       "\n",
       "   Church  Undecided  \n",
       "0       0          1  \n",
       "1       1          0  \n",
       "2       0          1  \n",
       "3       0          0  \n",
       "4       1          1  "
      ]
     },
     "execution_count": 28,
     "metadata": {},
     "output_type": "execute_result"
    }
   ],
   "source": [
    "minmax = MinMaxScaler()\n",
    "b_r_df[['Age','Income']] = minmax.fit_transform(b_r_df[['Age','Income']])\n",
    "b_r_df.head()"
   ]
  },
  {
   "cell_type": "markdown",
   "id": "a8f765d7",
   "metadata": {},
   "source": [
    "### 1C"
   ]
  },
  {
   "cell_type": "code",
   "execution_count": 6,
   "id": "f4ce4c5f",
   "metadata": {},
   "outputs": [],
   "source": [
    "# I think minmax scalar is better in this situation as the income variable may be\n",
    "# skewed or have outliers which is handled better with this method."
   ]
  },
  {
   "cell_type": "markdown",
   "id": "39d75dbc",
   "metadata": {},
   "source": [
    "### 1D"
   ]
  },
  {
   "cell_type": "code",
   "execution_count": 7,
   "id": "fc59c5b4",
   "metadata": {},
   "outputs": [],
   "source": [
    "X = b_r_df.iloc[:,:-1].values\n",
    "y = b_r_df.iloc[:,-1].values\n",
    "\n",
    "X_train, X_test, y_train, y_test = train_test_split(X,y,test_size=0.3,random_state=42)"
   ]
  },
  {
   "cell_type": "code",
   "execution_count": 8,
   "id": "68e1d2f4",
   "metadata": {},
   "outputs": [
    {
     "name": "stdout",
     "output_type": "stream",
     "text": [
      "(7000, 8)\n",
      "(7000,)\n",
      "(3000, 8)\n",
      "(3000,)\n"
     ]
    }
   ],
   "source": [
    "print(X_train.shape)\n",
    "print(y_train.shape)\n",
    "print(X_test.shape)\n",
    "print(y_test.shape)"
   ]
  },
  {
   "cell_type": "markdown",
   "id": "1ab37ed8",
   "metadata": {},
   "source": [
    "### 1E"
   ]
  },
  {
   "cell_type": "code",
   "execution_count": 9,
   "id": "bb03791d",
   "metadata": {},
   "outputs": [],
   "source": [
    "\n",
    "tree1 = DecisionTreeClassifier()\n",
    "tree1.fit(X_train,y_train)\n",
    "y_train_pred = tree1.predict(X_train)\n",
    "y_test_pred = tree1.predict(X_test)"
   ]
  },
  {
   "cell_type": "code",
   "execution_count": 10,
   "id": "751b2cc6",
   "metadata": {},
   "outputs": [
    {
     "name": "stdout",
     "output_type": "stream",
     "text": [
      "[0 0 0 0 1 0 0 0 0 1 0 1 0 1 1 0 0 0 0 0 0 0 0 1 1 1 0 1 1 0 0 0 0 1 1 1 0\n",
      " 1 1 0 1 0 0 0 0 0 1 1 0 1 1 0 1 0 1 1 0 0 1 0 0 0 0 1 0 0 0 0 0 1 0 0 0 0\n",
      " 0 1 0 1 0 0 1 0 1 0 0 0 1 0 0 0 0 1 1 1 0 1 0 0 0 1]\n"
     ]
    }
   ],
   "source": [
    "print(y_train_pred[:100])"
   ]
  },
  {
   "cell_type": "code",
   "execution_count": 11,
   "id": "fdc98cf6",
   "metadata": {},
   "outputs": [
    {
     "name": "stdout",
     "output_type": "stream",
     "text": [
      "[0 1 1 1 1 1 1 1 1 0 0 1 0 0 0 0 1 0 1 0 1 0 0 0 1 1 1 0 1 1 1 0 1 0 0 0 0\n",
      " 0 0 0 0 0 0 1 0 0 0 0 1 0 1 0 1 1 1 1 1 0 0 1 0 0 1 1 1 1 0 0 1 1 0 0 0 0\n",
      " 0 0 0 0 1 0 1 1 0 0 1 0 1 0 1 1 0 0 0 0 0 0 0 1 1 0]\n"
     ]
    }
   ],
   "source": [
    "print(y_test_pred[:100])"
   ]
  },
  {
   "cell_type": "markdown",
   "id": "ab2ec77b",
   "metadata": {},
   "source": [
    "### 1F"
   ]
  },
  {
   "cell_type": "code",
   "execution_count": 12,
   "id": "e244f967",
   "metadata": {},
   "outputs": [
    {
     "name": "stdout",
     "output_type": "stream",
     "text": [
      "Train: 1.0\n",
      "Test: 0.9676666666666667\n"
     ]
    }
   ],
   "source": [
    "print('Train:',accuracy_score(y_train,y_train_pred))\n",
    "print('Test:',accuracy_score(y_test,y_test_pred))"
   ]
  },
  {
   "cell_type": "markdown",
   "id": "52278087",
   "metadata": {},
   "source": [
    "### 1G"
   ]
  },
  {
   "cell_type": "code",
   "execution_count": 13,
   "id": "cbafc95d",
   "metadata": {},
   "outputs": [
    {
     "name": "stdout",
     "output_type": "stream",
     "text": [
      "Train: 1.0\n",
      "Test: 0.9676666666666667\n"
     ]
    }
   ],
   "source": [
    "print('Train:',tree1.score(X_train,y_train)) \n",
    "print('Test:',tree1.score(X_test,y_test))"
   ]
  },
  {
   "cell_type": "markdown",
   "id": "da50e307",
   "metadata": {},
   "source": [
    "### 1H"
   ]
  },
  {
   "cell_type": "code",
   "execution_count": 14,
   "id": "77b31c6d",
   "metadata": {},
   "outputs": [
    {
     "name": "stdout",
     "output_type": "stream",
     "text": [
      "Train: 0.0\n",
      "Test: 0.032333333333333325\n"
     ]
    }
   ],
   "source": [
    "from sklearn.metrics import zero_one_loss\n",
    "print('Train:',zero_one_loss(y_train,y_train_pred))\n",
    "print('Test:',zero_one_loss(y_test,y_test_pred))"
   ]
  },
  {
   "cell_type": "markdown",
   "id": "8e63f077",
   "metadata": {},
   "source": [
    "### 2A"
   ]
  },
  {
   "cell_type": "code",
   "execution_count": 15,
   "id": "802481a2",
   "metadata": {},
   "outputs": [
    {
     "name": "stdout",
     "output_type": "stream",
     "text": [
      "Train:               precision    recall  f1-score   support\n",
      "\n",
      "           0       1.00      1.00      1.00      4172\n",
      "           1       1.00      1.00      1.00      2828\n",
      "\n",
      "    accuracy                           1.00      7000\n",
      "   macro avg       1.00      1.00      1.00      7000\n",
      "weighted avg       1.00      1.00      1.00      7000\n",
      "\n",
      "Test:               precision    recall  f1-score   support\n",
      "\n",
      "           0       0.98      0.97      0.97      1814\n",
      "           1       0.95      0.96      0.96      1186\n",
      "\n",
      "    accuracy                           0.97      3000\n",
      "   macro avg       0.97      0.97      0.97      3000\n",
      "weighted avg       0.97      0.97      0.97      3000\n",
      "\n"
     ]
    }
   ],
   "source": [
    "from sklearn.metrics import classification_report\n",
    "print('Train:',classification_report(y_train,y_train_pred))\n",
    "print('Test:',classification_report(y_test,y_test_pred))"
   ]
  },
  {
   "cell_type": "markdown",
   "id": "6c0f4ad1",
   "metadata": {},
   "source": [
    "### 2B"
   ]
  },
  {
   "cell_type": "code",
   "execution_count": 16,
   "id": "89e8eb7c",
   "metadata": {},
   "outputs": [
    {
     "name": "stdout",
     "output_type": "stream",
     "text": [
      "Train: [[4172    0]\n",
      " [   0 2828]]\n",
      "Test: [[1760   54]\n",
      " [  43 1143]]\n"
     ]
    }
   ],
   "source": [
    "from sklearn.metrics import confusion_matrix\n",
    "print('Train:',confusion_matrix(y_train,y_train_pred))\n",
    "print('Test:',confusion_matrix(y_test,y_test_pred))"
   ]
  },
  {
   "cell_type": "markdown",
   "id": "ca8ddf98",
   "metadata": {},
   "source": [
    "### 2C"
   ]
  },
  {
   "cell_type": "code",
   "execution_count": 17,
   "id": "978bc431",
   "metadata": {},
   "outputs": [
    {
     "name": "stdout",
     "output_type": "stream",
     "text": [
      "Train: 1.0\n",
      "Test: 0.9548872180451128\n"
     ]
    }
   ],
   "source": [
    "from sklearn.metrics import precision_score\n",
    "print('Train:',precision_score(y_train,y_train_pred))\n",
    "print('Test:',precision_score(y_test,y_test_pred))"
   ]
  },
  {
   "cell_type": "markdown",
   "id": "f36f8c78",
   "metadata": {},
   "source": [
    "### 2D"
   ]
  },
  {
   "cell_type": "code",
   "execution_count": 18,
   "id": "70b92803",
   "metadata": {},
   "outputs": [
    {
     "name": "stdout",
     "output_type": "stream",
     "text": [
      "Train: 1.0\n",
      "Test: 0.9637436762225969\n"
     ]
    }
   ],
   "source": [
    "from sklearn.metrics import recall_score\n",
    "print('Train:',recall_score(y_train,y_train_pred))\n",
    "print('Test:',recall_score(y_test,y_test_pred))"
   ]
  },
  {
   "cell_type": "markdown",
   "id": "88333351",
   "metadata": {},
   "source": [
    "### 2E"
   ]
  },
  {
   "cell_type": "code",
   "execution_count": 19,
   "id": "04e4aed4",
   "metadata": {},
   "outputs": [
    {
     "name": "stdout",
     "output_type": "stream",
     "text": [
      "Train: 1.0\n",
      "Test: 0.9592950062945866\n"
     ]
    }
   ],
   "source": [
    "from sklearn.metrics import f1_score\n",
    "print('Train:',f1_score(y_train,y_train_pred))\n",
    "print('Test:',f1_score(y_test,y_test_pred))"
   ]
  },
  {
   "cell_type": "markdown",
   "id": "98524b0d",
   "metadata": {},
   "source": [
    "### 2F"
   ]
  },
  {
   "cell_type": "code",
   "execution_count": 20,
   "id": "11f09ada",
   "metadata": {},
   "outputs": [],
   "source": [
    "# f)When is it more appropriate to use f1 score \n",
    "# (or precision score and recall) compared to using the overall \n",
    "# accuracy to evaluate your model?"
   ]
  },
  {
   "cell_type": "markdown",
   "id": "17486d7f",
   "metadata": {},
   "source": [
    "### 2G"
   ]
  },
  {
   "cell_type": "code",
   "execution_count": 21,
   "id": "5d6d5169",
   "metadata": {},
   "outputs": [
    {
     "name": "stdout",
     "output_type": "stream",
     "text": [
      "<sklearn.metrics._plot.roc_curve.RocCurveDisplay object at 0x000002383F55ED60>\n",
      "<sklearn.metrics._plot.roc_curve.RocCurveDisplay object at 0x000002383F5D3EE0>\n"
     ]
    },
    {
     "name": "stderr",
     "output_type": "stream",
     "text": [
      "C:\\Users\\Seanw\\anaconda3\\lib\\site-packages\\sklearn\\utils\\deprecation.py:87: FutureWarning: Function plot_roc_curve is deprecated; Function :func:`plot_roc_curve` is deprecated in 1.0 and will be removed in 1.2. Use one of the class methods: :meth:`sklearn.metric.RocCurveDisplay.from_predictions` or :meth:`sklearn.metric.RocCurveDisplay.from_estimator`.\n",
      "  warnings.warn(msg, category=FutureWarning)\n",
      "C:\\Users\\Seanw\\anaconda3\\lib\\site-packages\\sklearn\\utils\\deprecation.py:87: FutureWarning: Function plot_roc_curve is deprecated; Function :func:`plot_roc_curve` is deprecated in 1.0 and will be removed in 1.2. Use one of the class methods: :meth:`sklearn.metric.RocCurveDisplay.from_predictions` or :meth:`sklearn.metric.RocCurveDisplay.from_estimator`.\n",
      "  warnings.warn(msg, category=FutureWarning)\n"
     ]
    },
    {
     "data": {
      "image/png": "[encoded data removed]",
      "text/plain": [
       "<Figure size 432x288 with 1 Axes>"
      ]
     },
     "metadata": {
      "needs_background": "light"
     },
     "output_type": "display_data"
    },
    {
     "data": {
      "image/png": "[encoded data removed]",
      "text/plain": [
       "<Figure size 432x288 with 1 Axes>"
      ]
     },
     "metadata": {
      "needs_background": "light"
     },
     "output_type": "display_data"
    }
   ],
   "source": [
    "from sklearn.metrics import plot_roc_curve\n",
    "print(plot_roc_curve(tree1,X_train,y_train))\n",
    "print(plot_roc_curve(tree1,X_test,y_test))"
   ]
  },
  {
   "cell_type": "markdown",
   "id": "53c80a80",
   "metadata": {},
   "source": [
    "### 2H"
   ]
  },
  {
   "cell_type": "code",
   "execution_count": 22,
   "id": "efb25734",
   "metadata": {},
   "outputs": [
    {
     "name": "stdout",
     "output_type": "stream",
     "text": [
      "<sklearn.metrics._plot.confusion_matrix.ConfusionMatrixDisplay object at 0x000002383F55EEB0>\n",
      "<sklearn.metrics._plot.confusion_matrix.ConfusionMatrixDisplay object at 0x000002383F57A460>\n"
     ]
    },
    {
     "name": "stderr",
     "output_type": "stream",
     "text": [
      "C:\\Users\\Seanw\\anaconda3\\lib\\site-packages\\sklearn\\utils\\deprecation.py:87: FutureWarning: Function plot_confusion_matrix is deprecated; Function `plot_confusion_matrix` is deprecated in 1.0 and will be removed in 1.2. Use one of the class methods: ConfusionMatrixDisplay.from_predictions or ConfusionMatrixDisplay.from_estimator.\n",
      "  warnings.warn(msg, category=FutureWarning)\n",
      "C:\\Users\\Seanw\\anaconda3\\lib\\site-packages\\sklearn\\utils\\deprecation.py:87: FutureWarning: Function plot_confusion_matrix is deprecated; Function `plot_confusion_matrix` is deprecated in 1.0 and will be removed in 1.2. Use one of the class methods: ConfusionMatrixDisplay.from_predictions or ConfusionMatrixDisplay.from_estimator.\n",
      "  warnings.warn(msg, category=FutureWarning)\n"
     ]
    },
    {
     "data": {
      "image/png": "[encoded data removed]",
      "text/plain": [
       "<Figure size 432x288 with 2 Axes>"
      ]
     },
     "metadata": {
      "needs_background": "light"
     },
     "output_type": "display_data"
    },
    {
     "data": {
      "image/png": "[encoded data removed]",
      "text/plain": [
       "<Figure size 432x288 with 2 Axes>"
      ]
     },
     "metadata": {
      "needs_background": "light"
     },
     "output_type": "display_data"
    }
   ],
   "source": [
    "from sklearn.metrics import plot_confusion_matrix\n",
    "print(plot_confusion_matrix(tree1,X_train,y_train))\n",
    "print(plot_confusion_matrix(tree1,X_test,y_test))"
   ]
  },
  {
   "cell_type": "markdown",
   "id": "a034d7cd",
   "metadata": {},
   "source": [
    "### 3A"
   ]
  },
  {
   "cell_type": "code",
   "execution_count": 23,
   "id": "809486b6",
   "metadata": {},
   "outputs": [
    {
     "data": {
      "text/plain": [
       "18"
      ]
     },
     "execution_count": 23,
     "metadata": {},
     "output_type": "execute_result"
    }
   ],
   "source": [
    "tree1.tree_.max_depth"
   ]
  },
  {
   "cell_type": "markdown",
   "id": "069dd481",
   "metadata": {},
   "source": [
    "### 3B"
   ]
  },
  {
   "cell_type": "code",
   "execution_count": 24,
   "id": "701c6095",
   "metadata": {},
   "outputs": [],
   "source": [
    "error_lst = list()\n",
    "for i in range(1,tree1.tree_.max_depth):\n",
    "    cur_tree = DecisionTreeClassifier(max_depth=i)\n",
    "    cur_tree.fit(X_train,y_train)\n",
    "    error_lst.append(1 -cur_tree.score(X_test,y_test))"
   ]
  },
  {
   "cell_type": "code",
   "execution_count": 25,
   "id": "0aa55479",
   "metadata": {},
   "outputs": [
    {
     "data": {
      "text/plain": [
       "<matplotlib.collections.PathCollection at 0x23840f22eb0>"
      ]
     },
     "execution_count": 25,
     "metadata": {},
     "output_type": "execute_result"
    },
    {
     "data": {
      "image/png": "[encoded data removed]",
      "text/plain": [
       "<Figure size 432x288 with 1 Axes>"
      ]
     },
     "metadata": {
      "needs_background": "light"
     },
     "output_type": "display_data"
    }
   ],
   "source": [
    "plt.scatter(range(1,tree1.tree_.max_depth),error_lst)"
   ]
  },
  {
   "cell_type": "code",
   "execution_count": 26,
   "id": "79c6d09c",
   "metadata": {},
   "outputs": [
    {
     "data": {
      "text/plain": [
       "5"
      ]
     },
     "execution_count": 26,
     "metadata": {},
     "output_type": "execute_result"
    }
   ],
   "source": [
    "np.argmin(error_lst)"
   ]
  },
  {
   "cell_type": "markdown",
   "id": "a942272b",
   "metadata": {},
   "source": [
    "### 3C"
   ]
  },
  {
   "cell_type": "code",
   "execution_count": 27,
   "id": "b2c42531",
   "metadata": {},
   "outputs": [
    {
     "data": {
      "text/plain": [
       "GridSearchCV(cv=8, estimator=DecisionTreeClassifier(),\n",
       "             param_grid={'max_depth': range(1, 18),\n",
       "                         'max_features': [0.2, 0.4, 0.6, 0.8]})"
      ]
     },
     "execution_count": 27,
     "metadata": {},
     "output_type": "execute_result"
    }
   ],
   "source": [
    "param_grid = {'max_depth':range(1,tree1.tree_.max_depth),\n",
    "             'max_features':[0.2,0.4,0.6,0.8]}\n",
    "cv = GridSearchCV(tree1,param_grid,cv=8)\n",
    "cv.fit(X_train,y_train)"
   ]
  },
  {
   "cell_type": "code",
   "execution_count": 28,
   "id": "5246044f",
   "metadata": {},
   "outputs": [
    {
     "data": {
      "text/plain": [
       "{'max_depth': 7, 'max_features': 0.8}"
      ]
     },
     "execution_count": 28,
     "metadata": {},
     "output_type": "execute_result"
    }
   ],
   "source": [
    "cv.best_params_"
   ]
  },
  {
   "cell_type": "markdown",
   "id": "5618d98e",
   "metadata": {},
   "source": [
    "### 3D"
   ]
  },
  {
   "cell_type": "code",
   "execution_count": 30,
   "id": "88abca0c",
   "metadata": {},
   "outputs": [],
   "source": [
    "from sklearn.model_selection import cross_val_score\n",
    "error_lst2 = list()\n",
    "for i in range(1,tree1.tree_.max_depth):\n",
    "    model = DecisionTreeClassifier(max_depth=i)\n",
    "    model.fit(X_train,y_train)\n",
    "    error_lst2.append(cross_val_score(model,X_train,y_train,scoring='accuracy',cv=8))"
   ]
  },
  {
   "cell_type": "code",
   "execution_count": 31,
   "id": "f5ddf1bd",
   "metadata": {},
   "outputs": [],
   "source": [
    "#find the best accuracy for each cross validation\n",
    "for i in range(len(error_lst2)):\n",
    "    error_lst2[i] = 1-np.mean(error_lst2[i])"
   ]
  },
  {
   "cell_type": "code",
   "execution_count": 32,
   "id": "ce41a9a9",
   "metadata": {},
   "outputs": [
    {
     "data": {
      "text/plain": [
       "<matplotlib.collections.PathCollection at 0x2383feef3d0>"
      ]
     },
     "execution_count": 32,
     "metadata": {},
     "output_type": "execute_result"
    },
    {
     "data": {
      "image/png": "[encoded data removed]",
      "text/plain": [
       "<Figure size 432x288 with 1 Axes>"
      ]
     },
     "metadata": {
      "needs_background": "light"
     },
     "output_type": "display_data"
    }
   ],
   "source": [
    "plt.scatter(range(len(error_lst2)),error_lst2)"
   ]
  },
  {
   "cell_type": "code",
   "execution_count": 33,
   "id": "3075ff73",
   "metadata": {},
   "outputs": [
    {
     "data": {
      "text/plain": [
       "5"
      ]
     },
     "execution_count": 33,
     "metadata": {},
     "output_type": "execute_result"
    }
   ],
   "source": [
    "np.argmin(error_lst2)"
   ]
  },
  {
   "cell_type": "markdown",
   "id": "a6012825",
   "metadata": {},
   "source": [
    "### 3E"
   ]
  },
  {
   "cell_type": "code",
   "execution_count": 38,
   "id": "4d046122",
   "metadata": {},
   "outputs": [],
   "source": [
    "from sklearn.model_selection import validation_curve\n",
    "# Your tree1 estimator and X, y data\n",
    "# Define parameter values for max_depth\n",
    "param_range = range(1, tree1.tree_.max_depth)\n",
    "\n",
    "# Use validation_curve to get training and validation scores\n",
    "train_scores, val_scores = validation_curve(estimator=tree1,\n",
    "                                            X=X, y=y,\n",
    "                                            param_name='max_depth',\n",
    "                                            param_range=param_range,\n",
    "                                            scoring='accuracy',\n",
    "                                            cv=8)"
   ]
  },
  {
   "cell_type": "code",
   "execution_count": 39,
   "id": "18f3db1b",
   "metadata": {},
   "outputs": [],
   "source": [
    "# Calculate average accuracy scores\n",
    "train_scores_mean = np.mean(train_scores, axis=1)\n",
    "val_scores_mean = np.mean(val_scores, axis=1)"
   ]
  },
  {
   "cell_type": "code",
   "execution_count": 40,
   "id": "5ebb6fe4",
   "metadata": {},
   "outputs": [],
   "source": [
    "# Calculate error rates\n",
    "train_error_rates = 1 - train_scores_mean\n",
    "val_error_rates = 1 - val_scores_mean"
   ]
  },
  {
   "cell_type": "code",
   "execution_count": 41,
   "id": "3fbd35c2",
   "metadata": {},
   "outputs": [
    {
     "data": {
      "image/png": "[encoded data removed]",
      "text/plain": [
       "<Figure size 432x288 with 1 Axes>"
      ]
     },
     "metadata": {
      "needs_background": "light"
     },
     "output_type": "display_data"
    }
   ],
   "source": [
    "# Plot error rates\n",
    "plt.plot(param_range, train_error_rates, label='Training Error')\n",
    "plt.plot(param_range, val_error_rates, label='Validation Error')\n",
    "plt.xlabel('Maximum Depth')\n",
    "plt.ylabel('Error Rate')\n",
    "plt.legend()\n",
    "plt.show()"
   ]
  },
  {
   "cell_type": "code",
   "execution_count": 44,
   "id": "b13fdc9f",
   "metadata": {},
   "outputs": [
    {
     "name": "stdout",
     "output_type": "stream",
     "text": [
      "Optimal Maximum Depth:  6\n"
     ]
    }
   ],
   "source": [
    "# Find optimal maximum depth\n",
    "optimal_max_depth = param_range[np.argmin(val_error_rates)]\n",
    "print(\"Optimal Maximum Depth: \", optimal_max_depth)"
   ]
  },
  {
   "cell_type": "markdown",
   "id": "0729d02a",
   "metadata": {},
   "source": [
    "### 4A"
   ]
  },
  {
   "cell_type": "code",
   "execution_count": 3,
   "id": "ae0b3836",
   "metadata": {},
   "outputs": [
    {
     "data": {
      "text/html": [
       "<div>\n",
       "<style scoped>\n",
       "    .dataframe tbody tr th:only-of-type {\n",
       "        vertical-align: middle;\n",
       "    }\n",
       "\n",
       "    .dataframe tbody tr th {\n",
       "        vertical-align: top;\n",
       "    }\n",
       "\n",
       "    .dataframe thead th {\n",
       "        text-align: right;\n",
       "    }\n",
       "</style>\n",
       "<table border=\"1\" class=\"dataframe\">\n",
       "  <thead>\n",
       "    <tr style=\"text-align: right;\">\n",
       "      <th></th>\n",
       "      <th>age</th>\n",
       "      <th>sex</th>\n",
       "      <th>cp</th>\n",
       "      <th>trestbps</th>\n",
       "      <th>chol</th>\n",
       "      <th>fbs</th>\n",
       "      <th>restecg</th>\n",
       "      <th>thalach</th>\n",
       "      <th>exang</th>\n",
       "      <th>oldpeak</th>\n",
       "      <th>slope</th>\n",
       "      <th>ca</th>\n",
       "      <th>thal</th>\n",
       "      <th>target</th>\n",
       "    </tr>\n",
       "  </thead>\n",
       "  <tbody>\n",
       "    <tr>\n",
       "      <th>0</th>\n",
       "      <td>70</td>\n",
       "      <td>1</td>\n",
       "      <td>4</td>\n",
       "      <td>130</td>\n",
       "      <td>322</td>\n",
       "      <td>0</td>\n",
       "      <td>2</td>\n",
       "      <td>109</td>\n",
       "      <td>0</td>\n",
       "      <td>2.4</td>\n",
       "      <td>2</td>\n",
       "      <td>3</td>\n",
       "      <td>3</td>\n",
       "      <td>2</td>\n",
       "    </tr>\n",
       "    <tr>\n",
       "      <th>1</th>\n",
       "      <td>67</td>\n",
       "      <td>0</td>\n",
       "      <td>3</td>\n",
       "      <td>115</td>\n",
       "      <td>564</td>\n",
       "      <td>0</td>\n",
       "      <td>2</td>\n",
       "      <td>160</td>\n",
       "      <td>0</td>\n",
       "      <td>1.6</td>\n",
       "      <td>2</td>\n",
       "      <td>0</td>\n",
       "      <td>7</td>\n",
       "      <td>1</td>\n",
       "    </tr>\n",
       "    <tr>\n",
       "      <th>2</th>\n",
       "      <td>57</td>\n",
       "      <td>1</td>\n",
       "      <td>2</td>\n",
       "      <td>124</td>\n",
       "      <td>261</td>\n",
       "      <td>0</td>\n",
       "      <td>0</td>\n",
       "      <td>141</td>\n",
       "      <td>0</td>\n",
       "      <td>0.3</td>\n",
       "      <td>1</td>\n",
       "      <td>0</td>\n",
       "      <td>7</td>\n",
       "      <td>2</td>\n",
       "    </tr>\n",
       "    <tr>\n",
       "      <th>3</th>\n",
       "      <td>64</td>\n",
       "      <td>1</td>\n",
       "      <td>4</td>\n",
       "      <td>128</td>\n",
       "      <td>263</td>\n",
       "      <td>0</td>\n",
       "      <td>0</td>\n",
       "      <td>105</td>\n",
       "      <td>1</td>\n",
       "      <td>0.2</td>\n",
       "      <td>2</td>\n",
       "      <td>1</td>\n",
       "      <td>7</td>\n",
       "      <td>1</td>\n",
       "    </tr>\n",
       "    <tr>\n",
       "      <th>4</th>\n",
       "      <td>74</td>\n",
       "      <td>0</td>\n",
       "      <td>2</td>\n",
       "      <td>120</td>\n",
       "      <td>269</td>\n",
       "      <td>0</td>\n",
       "      <td>2</td>\n",
       "      <td>121</td>\n",
       "      <td>1</td>\n",
       "      <td>0.2</td>\n",
       "      <td>1</td>\n",
       "      <td>1</td>\n",
       "      <td>3</td>\n",
       "      <td>1</td>\n",
       "    </tr>\n",
       "  </tbody>\n",
       "</table>\n",
       "</div>"
      ],
      "text/plain": [
       "   age  sex  cp  trestbps  chol  fbs  restecg  thalach  exang  oldpeak  slope  \\\n",
       "0   70    1   4       130   322    0        2      109      0      2.4      2   \n",
       "1   67    0   3       115   564    0        2      160      0      1.6      2   \n",
       "2   57    1   2       124   261    0        0      141      0      0.3      1   \n",
       "3   64    1   4       128   263    0        0      105      1      0.2      2   \n",
       "4   74    0   2       120   269    0        2      121      1      0.2      1   \n",
       "\n",
       "   ca  thal  target  \n",
       "0   3     3       2  \n",
       "1   0     7       1  \n",
       "2   0     7       2  \n",
       "3   1     7       1  \n",
       "4   1     3       1  "
      ]
     },
     "execution_count": 3,
     "metadata": {},
     "output_type": "execute_result"
    }
   ],
   "source": [
    "df = pd.read_csv('heart_data.csv',delimiter=',')\n",
    "df.head()"
   ]
  },
  {
   "cell_type": "markdown",
   "id": "f8b240d6",
   "metadata": {},
   "source": [
    "### 4B"
   ]
  },
  {
   "cell_type": "code",
   "execution_count": 4,
   "id": "fbb52689",
   "metadata": {},
   "outputs": [],
   "source": [
    "from sklearn.preprocessing import StandardScaler\n",
    "# Perform standard scaling on all numerical features except the last column\n",
    "numerical_features = df.columns[:-1]  # Exclude the last column ('quality')\n",
    "\n",
    "scaler = StandardScaler()\n",
    "df[numerical_features] = scaler.fit_transform(df[numerical_features])\n"
   ]
  },
  {
   "cell_type": "markdown",
   "id": "c6879edd",
   "metadata": {},
   "source": [
    "### 4C"
   ]
  },
  {
   "cell_type": "code",
   "execution_count": 7,
   "id": "1363ea88",
   "metadata": {},
   "outputs": [],
   "source": [
    "# Split the data into train and test sets\n",
    "X = df.drop('target', axis=1)\n",
    "y = df['target']\n",
    "X_train, X_test, y_train, y_test = train_test_split(X, y, test_size=0.2, random_state=42)"
   ]
  },
  {
   "cell_type": "markdown",
   "id": "45f8efce",
   "metadata": {},
   "source": [
    "### 4D"
   ]
  },
  {
   "cell_type": "code",
   "execution_count": 11,
   "id": "6e63ba5a",
   "metadata": {},
   "outputs": [
    {
     "data": {
      "text/plain": [
       "RandomForestClassifier(n_estimators=25)"
      ]
     },
     "execution_count": 11,
     "metadata": {},
     "output_type": "execute_result"
    }
   ],
   "source": [
    "h_tree = DecisionTreeClassifier()\n",
    "h_tree.fit(X_train,y_train)\n",
    "\n",
    "from sklearn.ensemble import RandomForestClassifier\n",
    "h_forest = RandomForestClassifier(n_estimators=25)\n",
    "h_forest.fit(X_train,y_train)"
   ]
  },
  {
   "cell_type": "markdown",
   "id": "599df747",
   "metadata": {},
   "source": [
    "### 4E"
   ]
  },
  {
   "cell_type": "code",
   "execution_count": 12,
   "id": "b7d60387",
   "metadata": {},
   "outputs": [],
   "source": [
    "tree_param_grid = {'max_depth':range(1,25),\n",
    "             'max_features':[0.2,0.4,0.6,0.8]}\n",
    "forest_param_grid = {'n_estimators':[5,10,15,20,25,30,35,40,50,100],\n",
    "                    'max_depth':range(1,25),\n",
    "                    'max_features':[0.2,0.4,0.6,0.8]}"
   ]
  },
  {
   "cell_type": "code",
   "execution_count": 15,
   "id": "19675729",
   "metadata": {},
   "outputs": [
    {
     "data": {
      "text/plain": [
       "GridSearchCV(cv=8, estimator=RandomForestClassifier(n_estimators=25),\n",
       "             param_grid={'max_depth': range(1, 25),\n",
       "                         'max_features': [0.2, 0.4, 0.6, 0.8],\n",
       "                         'n_estimators': [5, 10, 15, 20, 25, 30, 35, 40, 50,\n",
       "                                          100]})"
      ]
     },
     "execution_count": 15,
     "metadata": {},
     "output_type": "execute_result"
    }
   ],
   "source": [
    "tree_cv = GridSearchCV(h_tree,tree_param_grid,cv=8)\n",
    "tree_cv.fit(X_train,y_train)\n",
    "\n",
    "forest_cv = GridSearchCV(h_forest,forest_param_grid,cv=8)\n",
    "forest_cv.fit(X_train,y_train)"
   ]
  },
  {
   "cell_type": "markdown",
   "id": "c20f1621",
   "metadata": {},
   "source": [
    "### 4F"
   ]
  },
  {
   "cell_type": "code",
   "execution_count": 16,
   "id": "4395af9b",
   "metadata": {},
   "outputs": [
    {
     "data": {
      "text/plain": [
       "{'max_depth': 4, 'max_features': 0.6}"
      ]
     },
     "execution_count": 16,
     "metadata": {},
     "output_type": "execute_result"
    }
   ],
   "source": [
    "tree_cv.best_params_"
   ]
  },
  {
   "cell_type": "code",
   "execution_count": 17,
   "id": "a66ded20",
   "metadata": {},
   "outputs": [
    {
     "data": {
      "text/plain": [
       "{'max_depth': 3, 'max_features': 0.2, 'n_estimators': 50}"
      ]
     },
     "execution_count": 17,
     "metadata": {},
     "output_type": "execute_result"
    }
   ],
   "source": [
    "forest_cv.best_params_"
   ]
  },
  {
   "cell_type": "code",
   "execution_count": 29,
   "id": "84c6db4d",
   "metadata": {},
   "outputs": [],
   "source": [
    "h_tree_opt = DecisionTreeClassifier(max_depth=4,max_features=0.6)\n",
    "h_forest_opt = RandomForestClassifier(max_depth=3,max_features=0.2,n_estimators=50)"
   ]
  },
  {
   "cell_type": "code",
   "execution_count": 30,
   "id": "e1e28ca8",
   "metadata": {},
   "outputs": [
    {
     "name": "stdout",
     "output_type": "stream",
     "text": [
      "Decision Tree Train Acc: 0.8611111111111112\n",
      "Decision Tree Test Acc: 0.7592592592592593\n",
      "Forest Train acc: 0.875\n",
      "Forest Test acc: 0.8333333333333334\n"
     ]
    }
   ],
   "source": [
    "h_tree_opt.fit(X_train,y_train)\n",
    "print('Decision Tree Train Acc:', accuracy_score(h_tree_opt.predict(X_train),y_train))\n",
    "print('Decision Tree Test Acc:',h_tree_opt.score(X_test,y_test))\n",
    "      \n",
    "h_forest_opt.fit(X_train,y_train)\n",
    "print('Forest Train acc:',accuracy_score(h_forest_opt.predict(X_train),y_train))\n",
    "print('Forest Test acc:',h_forest_opt.score(X_test,y_test))"
   ]
  },
  {
   "cell_type": "code",
   "execution_count": 31,
   "id": "0cda8c01",
   "metadata": {},
   "outputs": [
    {
     "data": {
      "text/plain": [
       "0.8611111111111112"
      ]
     },
     "execution_count": 31,
     "metadata": {},
     "output_type": "execute_result"
    }
   ],
   "source": [
    "accuracy_score(h_tree_opt.predict(X_train),y_train)"
   ]
  },
  {
   "cell_type": "markdown",
   "id": "af3f63ed",
   "metadata": {},
   "source": [
    "### 4G"
   ]
  },
  {
   "cell_type": "code",
   "execution_count": null,
   "id": "901b0b1e",
   "metadata": {},
   "outputs": [],
   "source": [
    "# g)Discuss about overfitting for both models and, also discuss which model is better for classification for your dataset \n",
    "# and why? "
   ]
  }
 ],
 "metadata": {
  "kernelspec": {
   "display_name": "Python 3 (ipykernel)",
   "language": "python",
   "name": "python3"
  },
  "language_info": {
   "codemirror_mode": {
    "name": "ipython",
    "version": 3
   },
   "file_extension": ".py",
   "mimetype": "text/x-python",
   "name": "python",
   "nbconvert_exporter": "python",
   "pygments_lexer": "ipython3",
   "version": "3.9.12"
  }
 },
 "nbformat": 4,
 "nbformat_minor": 5
}
