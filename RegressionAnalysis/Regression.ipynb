{
 "cells": [
  {
   "cell_type": "code",
   "execution_count": 2,
   "id": "eea0f6db",
   "metadata": {},
   "outputs": [],
   "source": [
    "import pandas as pd\n",
    "import numpy as np\n",
    "from patsy import dmatrix\n",
    "from numpy.linalg import inv\n",
    "import statsmodels.api as sm\n",
    "import matplotlib.pyplot as plt\n",
    "import seaborn as sns\n",
    "from sklearn.preprocessing import StandardScaler\n",
    "from sklearn.model_selection import train_test_split"
   ]
  },
  {
   "cell_type": "code",
   "execution_count": 3,
   "id": "7c9edbc7",
   "metadata": {},
   "outputs": [
    {
     "data": {
      "text/html": [
       "<div>\n",
       "<style scoped>\n",
       "    .dataframe tbody tr th:only-of-type {\n",
       "        vertical-align: middle;\n",
       "    }\n",
       "\n",
       "    .dataframe tbody tr th {\n",
       "        vertical-align: top;\n",
       "    }\n",
       "\n",
       "    .dataframe thead th {\n",
       "        text-align: right;\n",
       "    }\n",
       "</style>\n",
       "<table border=\"1\" class=\"dataframe\">\n",
       "  <thead>\n",
       "    <tr style=\"text-align: right;\">\n",
       "      <th></th>\n",
       "      <th>age</th>\n",
       "      <th>income</th>\n",
       "      <th>illness</th>\n",
       "      <th>reduced</th>\n",
       "      <th>health</th>\n",
       "    </tr>\n",
       "  </thead>\n",
       "  <tbody>\n",
       "    <tr>\n",
       "      <th>0</th>\n",
       "      <td>0.19</td>\n",
       "      <td>0.55</td>\n",
       "      <td>1</td>\n",
       "      <td>4</td>\n",
       "      <td>1</td>\n",
       "    </tr>\n",
       "    <tr>\n",
       "      <th>1</th>\n",
       "      <td>0.19</td>\n",
       "      <td>0.45</td>\n",
       "      <td>1</td>\n",
       "      <td>2</td>\n",
       "      <td>1</td>\n",
       "    </tr>\n",
       "    <tr>\n",
       "      <th>2</th>\n",
       "      <td>0.19</td>\n",
       "      <td>0.90</td>\n",
       "      <td>3</td>\n",
       "      <td>0</td>\n",
       "      <td>0</td>\n",
       "    </tr>\n",
       "    <tr>\n",
       "      <th>3</th>\n",
       "      <td>0.19</td>\n",
       "      <td>0.15</td>\n",
       "      <td>1</td>\n",
       "      <td>0</td>\n",
       "      <td>0</td>\n",
       "    </tr>\n",
       "    <tr>\n",
       "      <th>4</th>\n",
       "      <td>0.19</td>\n",
       "      <td>0.45</td>\n",
       "      <td>2</td>\n",
       "      <td>5</td>\n",
       "      <td>1</td>\n",
       "    </tr>\n",
       "  </tbody>\n",
       "</table>\n",
       "</div>"
      ],
      "text/plain": [
       "    age  income  illness  reduced  health\n",
       "0  0.19    0.55        1        4       1\n",
       "1  0.19    0.45        1        2       1\n",
       "2  0.19    0.90        3        0       0\n",
       "3  0.19    0.15        1        0       0\n",
       "4  0.19    0.45        2        5       1"
      ]
     },
     "execution_count": 3,
     "metadata": {},
     "output_type": "execute_result"
    }
   ],
   "source": [
    "health_df = pd.read_csv('Health_Data.csv')\n",
    "health_df.head()"
   ]
  },
  {
   "cell_type": "markdown",
   "id": "04468649",
   "metadata": {},
   "source": [
    "#### 1A"
   ]
  },
  {
   "cell_type": "code",
   "execution_count": 4,
   "id": "2f865a5b",
   "metadata": {},
   "outputs": [],
   "source": [
    "X = health_df[['age', 'income', 'illness', 'reduced']]\n",
    "y = health_df['health']"
   ]
  },
  {
   "cell_type": "code",
   "execution_count": 5,
   "id": "cb161eaf",
   "metadata": {},
   "outputs": [],
   "source": [
    "sc = StandardScaler()\n",
    "X = pd.DataFrame(sc.fit_transform(X),columns=X.columns)"
   ]
  },
  {
   "cell_type": "code",
   "execution_count": 6,
   "id": "fb0d423d",
   "metadata": {},
   "outputs": [
    {
     "name": "stdout",
     "output_type": "stream",
     "text": [
      "1.2175337186897872 -0.17273499897030747 -0.10539057012366455 0.6849093812779468 0.45714456103589757\n"
     ]
    }
   ],
   "source": [
    "b0 = 0\n",
    "b1 = 0 \n",
    "b2 = 0\n",
    "b3 = 0\n",
    "b4 = 0\n",
    "alpha = 0.1\n",
    "num_iter = 10000\n",
    "\n",
    "x1 = X['age'].values\n",
    "x2 = X['income'].values\n",
    "x3 = X['illness'].values\n",
    "x4 = X['reduced'].values\n",
    "\n",
    "n = len(y)\n",
    "\n",
    "for i in range(num_iter):\n",
    "    y_pred = b0 + b1*x1 + b2*x2 + b3*x3 + b4*x4\n",
    "    \n",
    "    err = y - y_pred\n",
    "    \n",
    "    b0 = b0 + alpha*np.sum(err)/n\n",
    "    \n",
    "    b1 = b1 + alpha*np.sum(err*x1)/n\n",
    "    b2 = b2 + alpha*np.sum(err*x2)/n\n",
    "    b3 = b3 + alpha*np.sum(err*x3)/n\n",
    "    b4 = b4 + alpha*np.sum(err*x4)/n\n",
    "    \n",
    "print(b0,b1,b2,b3,b4)"
   ]
  },
  {
   "cell_type": "markdown",
   "id": "4d009e03",
   "metadata": {},
   "source": [
    "#### 1B"
   ]
  },
  {
   "cell_type": "code",
   "execution_count": 7,
   "id": "a3523bd3",
   "metadata": {},
   "outputs": [
    {
     "name": "stdout",
     "output_type": "stream",
     "text": [
      "[1.19856809] [-0.17661829 -0.10891681  0.70302722  0.41086993]\n"
     ]
    }
   ],
   "source": [
    "from sklearn.linear_model import SGDRegressor\n",
    "\n",
    "linmod = SGDRegressor()\n",
    "linmod.fit(X,y)\n",
    "print(linmod.intercept_, linmod.coef_)"
   ]
  },
  {
   "cell_type": "code",
   "execution_count": 8,
   "id": "4dc65aab",
   "metadata": {},
   "outputs": [],
   "source": [
    "# Are A and B similar? Yes"
   ]
  },
  {
   "cell_type": "markdown",
   "id": "759e4876",
   "metadata": {},
   "source": [
    "#### 2A"
   ]
  },
  {
   "cell_type": "code",
   "execution_count": 9,
   "id": "f7f19b80",
   "metadata": {},
   "outputs": [
    {
     "data": {
      "text/html": [
       "<table class=\"simpletable\">\n",
       "<caption>OLS Regression Results</caption>\n",
       "<tr>\n",
       "  <th>Dep. Variable:</th>         <td>health</td>      <th>  R-squared:         </th> <td>   0.179</td> \n",
       "</tr>\n",
       "<tr>\n",
       "  <th>Model:</th>                   <td>OLS</td>       <th>  Adj. R-squared:    </th> <td>   0.179</td> \n",
       "</tr>\n",
       "<tr>\n",
       "  <th>Method:</th>             <td>Least Squares</td>  <th>  F-statistic:       </th> <td>   282.9</td> \n",
       "</tr>\n",
       "<tr>\n",
       "  <th>Date:</th>             <td>Tue, 16 May 2023</td> <th>  Prob (F-statistic):</th> <td>2.35e-220</td>\n",
       "</tr>\n",
       "<tr>\n",
       "  <th>Time:</th>                 <td>12:22:40</td>     <th>  Log-Likelihood:    </th> <td> -10762.</td> \n",
       "</tr>\n",
       "<tr>\n",
       "  <th>No. Observations:</th>      <td>  5190</td>      <th>  AIC:               </th> <td>2.153e+04</td>\n",
       "</tr>\n",
       "<tr>\n",
       "  <th>Df Residuals:</th>          <td>  5185</td>      <th>  BIC:               </th> <td>2.157e+04</td>\n",
       "</tr>\n",
       "<tr>\n",
       "  <th>Df Model:</th>              <td>     4</td>      <th>                     </th>     <td> </td>    \n",
       "</tr>\n",
       "<tr>\n",
       "  <th>Covariance Type:</th>      <td>nonrobust</td>    <th>                     </th>     <td> </td>    \n",
       "</tr>\n",
       "</table>\n",
       "<table class=\"simpletable\">\n",
       "<tr>\n",
       "     <td></td>        <th>coef</th>     <th>std err</th>      <th>t</th>      <th>P>|t|</th>  <th>[0.025</th>    <th>0.975]</th>  \n",
       "</tr>\n",
       "<tr>\n",
       "  <th>age</th>     <td>   -0.8436</td> <td>    0.138</td> <td>   -6.120</td> <td> 0.000</td> <td>   -1.114</td> <td>   -0.573</td>\n",
       "</tr>\n",
       "<tr>\n",
       "  <th>income</th>  <td>   -0.2857</td> <td>    0.076</td> <td>   -3.777</td> <td> 0.000</td> <td>   -0.434</td> <td>   -0.137</td>\n",
       "</tr>\n",
       "<tr>\n",
       "  <th>illness</th> <td>    0.4949</td> <td>    0.020</td> <td>   24.442</td> <td> 0.000</td> <td>    0.455</td> <td>    0.535</td>\n",
       "</tr>\n",
       "<tr>\n",
       "  <th>reduced</th> <td>    0.1583</td> <td>    0.009</td> <td>   16.671</td> <td> 0.000</td> <td>    0.140</td> <td>    0.177</td>\n",
       "</tr>\n",
       "<tr>\n",
       "  <th>const</th>   <td>    0.8819</td> <td>    0.087</td> <td>   10.168</td> <td> 0.000</td> <td>    0.712</td> <td>    1.052</td>\n",
       "</tr>\n",
       "</table>\n",
       "<table class=\"simpletable\">\n",
       "<tr>\n",
       "  <th>Omnibus:</th>       <td>2321.918</td> <th>  Durbin-Watson:     </th> <td>   1.850</td> \n",
       "</tr>\n",
       "<tr>\n",
       "  <th>Prob(Omnibus):</th>  <td> 0.000</td>  <th>  Jarque-Bera (JB):  </th> <td>12281.302</td>\n",
       "</tr>\n",
       "<tr>\n",
       "  <th>Skew:</th>           <td> 2.126</td>  <th>  Prob(JB):          </th> <td>    0.00</td> \n",
       "</tr>\n",
       "<tr>\n",
       "  <th>Kurtosis:</th>       <td> 9.222</td>  <th>  Cond. No.          </th> <td>    18.7</td> \n",
       "</tr>\n",
       "</table><br/><br/>Notes:<br/>[1] Standard Errors assume that the covariance matrix of the errors is correctly specified."
      ],
      "text/plain": [
       "<class 'statsmodels.iolib.summary.Summary'>\n",
       "\"\"\"\n",
       "                            OLS Regression Results                            \n",
       "==============================================================================\n",
       "Dep. Variable:                 health   R-squared:                       0.179\n",
       "Model:                            OLS   Adj. R-squared:                  0.179\n",
       "Method:                 Least Squares   F-statistic:                     282.9\n",
       "Date:                Tue, 16 May 2023   Prob (F-statistic):          2.35e-220\n",
       "Time:                        12:22:40   Log-Likelihood:                -10762.\n",
       "No. Observations:                5190   AIC:                         2.153e+04\n",
       "Df Residuals:                    5185   BIC:                         2.157e+04\n",
       "Df Model:                           4                                         \n",
       "Covariance Type:            nonrobust                                         \n",
       "==============================================================================\n",
       "                 coef    std err          t      P>|t|      [0.025      0.975]\n",
       "------------------------------------------------------------------------------\n",
       "age           -0.8436      0.138     -6.120      0.000      -1.114      -0.573\n",
       "income        -0.2857      0.076     -3.777      0.000      -0.434      -0.137\n",
       "illness        0.4949      0.020     24.442      0.000       0.455       0.535\n",
       "reduced        0.1583      0.009     16.671      0.000       0.140       0.177\n",
       "const          0.8819      0.087     10.168      0.000       0.712       1.052\n",
       "==============================================================================\n",
       "Omnibus:                     2321.918   Durbin-Watson:                   1.850\n",
       "Prob(Omnibus):                  0.000   Jarque-Bera (JB):            12281.302\n",
       "Skew:                           2.126   Prob(JB):                         0.00\n",
       "Kurtosis:                       9.222   Cond. No.                         18.7\n",
       "==============================================================================\n",
       "\n",
       "Notes:\n",
       "[1] Standard Errors assume that the covariance matrix of the errors is correctly specified.\n",
       "\"\"\""
      ]
     },
     "execution_count": 9,
     "metadata": {},
     "output_type": "execute_result"
    }
   ],
   "source": [
    "feature_matrix = sm.add_constant(health_df[[\"age\",\"income\",\"illness\",\"reduced\"]], prepend=False)\n",
    "# Fit and summarize OLS model\n",
    "model = sm.OLS(y, feature_matrix)\n",
    "res = model.fit()\n",
    "res.summary()"
   ]
  },
  {
   "cell_type": "markdown",
   "id": "2916b7fe",
   "metadata": {},
   "source": [
    "#### 2B"
   ]
  },
  {
   "cell_type": "code",
   "execution_count": 10,
   "id": "da7d78ec",
   "metadata": {},
   "outputs": [],
   "source": [
    "#No, the R-squared value is .179, so the x's overall are only explaining approximately 18% of the variance in health outcome.  "
   ]
  },
  {
   "cell_type": "markdown",
   "id": "dc050ca0",
   "metadata": {},
   "source": [
    "#### 2C"
   ]
  },
  {
   "cell_type": "code",
   "execution_count": 11,
   "id": "9b8ed787",
   "metadata": {},
   "outputs": [],
   "source": [
    "#No, based on the coefficients of these predictors, they are not significant predictors"
   ]
  },
  {
   "cell_type": "markdown",
   "id": "64885256",
   "metadata": {},
   "source": [
    "#### 2D"
   ]
  },
  {
   "cell_type": "code",
   "execution_count": 12,
   "id": "37572612",
   "metadata": {},
   "outputs": [],
   "source": [
    "#The illness variable is the best predictor of health score because it has the highest coefficient value \n",
    "# of all the variables (0.4949)"
   ]
  },
  {
   "cell_type": "markdown",
   "id": "cb0b1a97",
   "metadata": {},
   "source": [
    "#### 2E"
   ]
  },
  {
   "cell_type": "code",
   "execution_count": 13,
   "id": "b5e79cc8",
   "metadata": {},
   "outputs": [],
   "source": [
    "v = np.array([[2],[3]]).reshape(1,2)"
   ]
  },
  {
   "cell_type": "code",
   "execution_count": 14,
   "id": "e6f5b665",
   "metadata": {},
   "outputs": [
    {
     "data": {
      "text/plain": [
       "0      -0.692625\n",
       "1      -0.404543\n",
       "2      -1.949059\n",
       "3      -1.173603\n",
       "4      -1.374393\n",
       "          ...   \n",
       "5185   -0.539141\n",
       "5186    0.717322\n",
       "5187    0.006814\n",
       "5188   -0.257493\n",
       "5189   -0.203060\n",
       "Length: 5190, dtype: float64"
      ]
     },
     "execution_count": 14,
     "metadata": {},
     "output_type": "execute_result"
    }
   ],
   "source": [
    "res.resid"
   ]
  },
  {
   "cell_type": "code",
   "execution_count": 15,
   "id": "7929f945",
   "metadata": {},
   "outputs": [
    {
     "data": {
      "image/png": "[encoded data removed]",
      "text/plain": [
       "<Figure size 432x288 with 1 Axes>"
      ]
     },
     "execution_count": 15,
     "metadata": {},
     "output_type": "execute_result"
    },
    {
     "data": {
      "image/png": "[encoded data removed]",
      "text/plain": [
       "<Figure size 432x288 with 1 Axes>"
      ]
     },
     "metadata": {
      "needs_background": "light"
     },
     "output_type": "display_data"
    }
   ],
   "source": [
    "sm.qqplot(res.resid,fit=True,line='45')"
   ]
  },
  {
   "cell_type": "code",
   "execution_count": 16,
   "id": "176bca09",
   "metadata": {},
   "outputs": [],
   "source": [
    "# does it meet normality standard?\n",
    "# No"
   ]
  },
  {
   "cell_type": "markdown",
   "id": "23bb0fe7",
   "metadata": {},
   "source": [
    "#### 2F"
   ]
  },
  {
   "cell_type": "code",
   "execution_count": 17,
   "id": "c44a014b",
   "metadata": {},
   "outputs": [
    {
     "data": {
      "image/png": "[encoded data removed]",
      "text/plain": [
       "<Figure size 432x288 with 1 Axes>"
      ]
     },
     "metadata": {
      "needs_background": "light"
     },
     "output_type": "display_data"
    }
   ],
   "source": [
    "sns.histplot(res.resid, kde=True)\n",
    "plt.show()\n",
    "\n",
    "#still no, this is not a normal distribution, data is skewed right"
   ]
  },
  {
   "cell_type": "markdown",
   "id": "93e7c632",
   "metadata": {},
   "source": [
    "#### 2G"
   ]
  },
  {
   "cell_type": "code",
   "execution_count": 18,
   "id": "9effd8ce",
   "metadata": {},
   "outputs": [
    {
     "data": {
      "image/png": "[encoded data removed]",
      "text/plain": [
       "<Figure size 720x180 with 4 Axes>"
      ]
     },
     "metadata": {
      "needs_background": "light"
     },
     "output_type": "display_data"
    }
   ],
   "source": [
    "data = pd.read_csv(\"Health_Data.csv\")\n",
    "pp = sns.pairplot(data=data,\n",
    "                  y_vars=['health'],\n",
    "                  x_vars=['age', 'income', 'illness', 'reduced'])\n",
    "\n",
    "#according to your plots, are the linearity assumptions met? \n",
    "# No"
   ]
  },
  {
   "cell_type": "markdown",
   "id": "9e05d49a",
   "metadata": {},
   "source": [
    "#### 2H"
   ]
  },
  {
   "cell_type": "code",
   "execution_count": 19,
   "id": "eb4bebf2",
   "metadata": {},
   "outputs": [
    {
     "data": {
      "image/png": "[encoded data removed]",
      "text/plain": [
       "<Figure size 432x288 with 1 Axes>"
      ]
     },
     "metadata": {
      "needs_background": "light"
     },
     "output_type": "display_data"
    }
   ],
   "source": [
    "sns.scatterplot(x=data[\"health\"], y=res.predict(), alpha=0.2)\n",
    "plt.ylabel(\"predicted health\")\n",
    "plt.show()\n",
    "\n",
    "\n",
    "#is your model good for predicting health scores?  \n",
    "#no"
   ]
  },
  {
   "cell_type": "markdown",
   "id": "f911c13f",
   "metadata": {},
   "source": [
    "#### 2I"
   ]
  },
  {
   "cell_type": "code",
   "execution_count": 20,
   "id": "07612fc1",
   "metadata": {},
   "outputs": [
    {
     "data": {
      "text/html": [
       "<div>\n",
       "<style scoped>\n",
       "    .dataframe tbody tr th:only-of-type {\n",
       "        vertical-align: middle;\n",
       "    }\n",
       "\n",
       "    .dataframe tbody tr th {\n",
       "        vertical-align: top;\n",
       "    }\n",
       "\n",
       "    .dataframe thead th {\n",
       "        text-align: right;\n",
       "    }\n",
       "</style>\n",
       "<table border=\"1\" class=\"dataframe\">\n",
       "  <thead>\n",
       "    <tr style=\"text-align: right;\">\n",
       "      <th></th>\n",
       "      <th>age</th>\n",
       "      <th>income</th>\n",
       "      <th>illness</th>\n",
       "      <th>reduced</th>\n",
       "    </tr>\n",
       "  </thead>\n",
       "  <tbody>\n",
       "    <tr>\n",
       "      <th>age</th>\n",
       "      <td>1.000193</td>\n",
       "      <td>-0.271126</td>\n",
       "      <td>0.205023</td>\n",
       "      <td>0.094763</td>\n",
       "    </tr>\n",
       "    <tr>\n",
       "      <th>income</th>\n",
       "      <td>-0.271126</td>\n",
       "      <td>1.000193</td>\n",
       "      <td>-0.148840</td>\n",
       "      <td>-0.047554</td>\n",
       "    </tr>\n",
       "    <tr>\n",
       "      <th>illness</th>\n",
       "      <td>0.205023</td>\n",
       "      <td>-0.148840</td>\n",
       "      <td>1.000193</td>\n",
       "      <td>0.218158</td>\n",
       "    </tr>\n",
       "    <tr>\n",
       "      <th>reduced</th>\n",
       "      <td>0.094763</td>\n",
       "      <td>-0.047554</td>\n",
       "      <td>0.218158</td>\n",
       "      <td>1.000193</td>\n",
       "    </tr>\n",
       "  </tbody>\n",
       "</table>\n",
       "</div>"
      ],
      "text/plain": [
       "              age    income   illness   reduced\n",
       "age      1.000193 -0.271126  0.205023  0.094763\n",
       "income  -0.271126  1.000193 -0.148840 -0.047554\n",
       "illness  0.205023 -0.148840  1.000193  0.218158\n",
       "reduced  0.094763 -0.047554  0.218158  1.000193"
      ]
     },
     "execution_count": 20,
     "metadata": {},
     "output_type": "execute_result"
    }
   ],
   "source": [
    "X.cov()\n",
    "\n",
    "#based on these values, there is not evidence of multicollinearity"
   ]
  },
  {
   "cell_type": "markdown",
   "id": "0b9b10c5",
   "metadata": {},
   "source": [
    "#### 3A"
   ]
  },
  {
   "cell_type": "code",
   "execution_count": 21,
   "id": "c68ef0f0",
   "metadata": {},
   "outputs": [
    {
     "data": {
      "text/html": [
       "<div>\n",
       "<style scoped>\n",
       "    .dataframe tbody tr th:only-of-type {\n",
       "        vertical-align: middle;\n",
       "    }\n",
       "\n",
       "    .dataframe tbody tr th {\n",
       "        vertical-align: top;\n",
       "    }\n",
       "\n",
       "    .dataframe thead th {\n",
       "        text-align: right;\n",
       "    }\n",
       "</style>\n",
       "<table border=\"1\" class=\"dataframe\">\n",
       "  <thead>\n",
       "    <tr style=\"text-align: right;\">\n",
       "      <th></th>\n",
       "      <th>Unnamed: 0</th>\n",
       "      <th>id</th>\n",
       "      <th>days</th>\n",
       "      <th>duration</th>\n",
       "      <th>sex</th>\n",
       "      <th>age</th>\n",
       "      <th>piq</th>\n",
       "      <th>viq</th>\n",
       "    </tr>\n",
       "  </thead>\n",
       "  <tbody>\n",
       "    <tr>\n",
       "      <th>0</th>\n",
       "      <td>1</td>\n",
       "      <td>3358</td>\n",
       "      <td>30</td>\n",
       "      <td>4</td>\n",
       "      <td>Male</td>\n",
       "      <td>20.67077</td>\n",
       "      <td>87</td>\n",
       "      <td>89</td>\n",
       "    </tr>\n",
       "    <tr>\n",
       "      <th>1</th>\n",
       "      <td>2</td>\n",
       "      <td>3535</td>\n",
       "      <td>16</td>\n",
       "      <td>17</td>\n",
       "      <td>Male</td>\n",
       "      <td>55.28816</td>\n",
       "      <td>95</td>\n",
       "      <td>77</td>\n",
       "    </tr>\n",
       "    <tr>\n",
       "      <th>2</th>\n",
       "      <td>3</td>\n",
       "      <td>3547</td>\n",
       "      <td>40</td>\n",
       "      <td>1</td>\n",
       "      <td>Male</td>\n",
       "      <td>55.91513</td>\n",
       "      <td>95</td>\n",
       "      <td>116</td>\n",
       "    </tr>\n",
       "    <tr>\n",
       "      <th>3</th>\n",
       "      <td>4</td>\n",
       "      <td>3592</td>\n",
       "      <td>13</td>\n",
       "      <td>10</td>\n",
       "      <td>Male</td>\n",
       "      <td>61.66461</td>\n",
       "      <td>59</td>\n",
       "      <td>73</td>\n",
       "    </tr>\n",
       "    <tr>\n",
       "      <th>4</th>\n",
       "      <td>5</td>\n",
       "      <td>3728</td>\n",
       "      <td>19</td>\n",
       "      <td>6</td>\n",
       "      <td>Male</td>\n",
       "      <td>30.12731</td>\n",
       "      <td>67</td>\n",
       "      <td>73</td>\n",
       "    </tr>\n",
       "  </tbody>\n",
       "</table>\n",
       "</div>"
      ],
      "text/plain": [
       "   Unnamed: 0    id  days  duration   sex       age  piq  viq\n",
       "0           1  3358    30         4  Male  20.67077   87   89\n",
       "1           2  3535    16        17  Male  55.28816   95   77\n",
       "2           3  3547    40         1  Male  55.91513   95  116\n",
       "3           4  3592    13        10  Male  61.66461   59   73\n",
       "4           5  3728    19         6  Male  30.12731   67   73"
      ]
     },
     "execution_count": 21,
     "metadata": {},
     "output_type": "execute_result"
    }
   ],
   "source": [
    "# Post-Coma Recovery of IQ\n",
    "recovery = pd.read_csv(\"Wong.csv\")\n",
    "recovery.head()"
   ]
  },
  {
   "cell_type": "code",
   "execution_count": 22,
   "id": "f1c31308",
   "metadata": {},
   "outputs": [
    {
     "name": "stdout",
     "output_type": "stream",
     "text": [
      "Training MSE: 0.5310326684358313\n",
      "Test MSE: 0.6129531319208074\n"
     ]
    }
   ],
   "source": [
    "import pandas as pd\n",
    "from sklearn.model_selection import train_test_split\n",
    "from sklearn.linear_model import LinearRegression\n",
    "from sklearn.metrics import mean_squared_error\n",
    "from sklearn.preprocessing import StandardScaler\n",
    "\n",
    "# Drop the first column since it only contains the row number\n",
    "recovery.drop('Unnamed: 0', axis=1, inplace=True)\n",
    "\n",
    "# Check for missing values and remove any rows that contain them\n",
    "recovery.dropna(inplace=True)\n",
    "\n",
    "# Convert categorical variables to binary indicators using one-hot encoding\n",
    "recovery = pd.get_dummies(recovery, columns=['sex'])\n",
    "\n",
    "# Standardize the continuous variables\n",
    "scaler = StandardScaler()\n",
    "recovery[['age', 'days', 'age', 'piq', 'viq', 'duration']] = scaler.fit_transform(recovery[['age', 'days', 'age', 'piq', 'viq', 'duration']])\n",
    "\n",
    "# Split the data into training and test sets - looking at verbal IQ post coma\n",
    "X = recovery.drop('viq', axis=1)\n",
    "y = recovery['viq']\n",
    "X_train, X_test, y_train, y_test = train_test_split(X, y, test_size=0.2, random_state=42)\n",
    "\n",
    "# Fit a linear regression model to the training data\n",
    "reg = LinearRegression().fit(X_train, y_train)\n",
    "\n",
    "# Evaluate the model on the training and test data using mean squared error (MSE)\n",
    "train_mse = mean_squared_error(y_train, reg.predict(X_train))\n",
    "test_mse = mean_squared_error(y_test, reg.predict(X_test))\n",
    "\n",
    "print(\"Training MSE:\", train_mse)\n",
    "print(\"Test MSE:\", test_mse)\n"
   ]
  },
  {
   "cell_type": "markdown",
   "id": "16e97904",
   "metadata": {},
   "source": [
    "#### 3B"
   ]
  },
  {
   "cell_type": "code",
   "execution_count": 23,
   "id": "4d2fc97d",
   "metadata": {},
   "outputs": [
    {
     "name": "stdout",
     "output_type": "stream",
     "text": [
      "0.44788032420205237\n",
      "0.46497266743688226\n"
     ]
    }
   ],
   "source": [
    "print(reg.score(X_train, y_train))\n",
    "print(reg.score(X_test, y_test))\n",
    "\n",
    "#based on the accuracy scores for the training and test sets, there is not evidence of overfitting"
   ]
  },
  {
   "cell_type": "markdown",
   "id": "fd87b178",
   "metadata": {},
   "source": [
    "#### 3C"
   ]
  },
  {
   "cell_type": "code",
   "execution_count": 24,
   "id": "763d0682",
   "metadata": {},
   "outputs": [
    {
     "name": "stdout",
     "output_type": "stream",
     "text": [
      "0.9547744273879925 1.1627572767640157\n",
      "0.007312019310674489\n",
      "-0.01493391877436645\n"
     ]
    }
   ],
   "source": [
    "from sklearn.linear_model import Lasso\n",
    "\n",
    "lasso = Lasso(random_state=42, selection=\"random\")\n",
    "lasso.fit(X_train, y_train)\n",
    "print(mean_squared_error(y_train, lasso.predict(X_train)), mean_squared_error(y_test, lasso.predict(X_test)))\n",
    "print(lasso.score(X_train, y_train))\n",
    "print(lasso.score(X_test, y_test))"
   ]
  },
  {
   "cell_type": "markdown",
   "id": "d4860355",
   "metadata": {},
   "source": [
    "#### 3D"
   ]
  },
  {
   "cell_type": "code",
   "execution_count": 25,
   "id": "d4366b5e",
   "metadata": {},
   "outputs": [
    {
     "name": "stdout",
     "output_type": "stream",
     "text": [
      "0.531039529968823 0.6137928115469025\n",
      "0.44787319020146066\n",
      "0.4642397377442816\n"
     ]
    }
   ],
   "source": [
    "from sklearn.linear_model import Ridge\n",
    "\n",
    "ridge = Ridge(random_state=42)\n",
    "ridge.fit(X_train, y_train)\n",
    "print(mean_squared_error(y_train, ridge.predict(X_train)), mean_squared_error(y_test, ridge.predict(X_test)))\n",
    "print(ridge.score(X_train, y_train))\n",
    "print(ridge.score(X_test, y_test))"
   ]
  },
  {
   "cell_type": "markdown",
   "id": "e3681d6b",
   "metadata": {},
   "source": [
    "#### 3E"
   ]
  },
  {
   "cell_type": "code",
   "execution_count": 26,
   "id": "202ec5d9",
   "metadata": {},
   "outputs": [],
   "source": [
    "# OLS and ridge regression accuracy scores on the \n",
    "# training and test sets are nearly identical- the OLS scores are marginally better."
   ]
  },
  {
   "cell_type": "markdown",
   "id": "655e3b50",
   "metadata": {},
   "source": [
    "#### 3C"
   ]
  },
  {
   "cell_type": "code",
   "execution_count": 27,
   "id": "7047d9d7",
   "metadata": {},
   "outputs": [
    {
     "name": "stdout",
     "output_type": "stream",
     "text": [
      "{'alpha': 0.06} 0.43308893503981005 0.4347267750481223\n",
      "{'alpha': 1.0} 0.44787319020146066 0.4642397377442816\n"
     ]
    }
   ],
   "source": [
    "from sklearn.model_selection import GridSearchCV\n",
    "\n",
    "lassotuner = GridSearchCV(Lasso(random_state=42, selection=\"random\"), param_grid={\"alpha\": np.arange(1, 101)/100}, cv=8, n_jobs=-1)\n",
    "lassotuner.fit(X_train, y_train)\n",
    "print(lassotuner.best_params_, lassotuner.best_estimator_.score(X_train, y_train), lassotuner.best_estimator_.score(X_test, y_test))\n",
    "ridgetuner = GridSearchCV(Ridge(random_state=42), param_grid={\"alpha\": np.arange(101)/100}, cv=8, n_jobs=-1)\n",
    "ridgetuner.fit(X_train, y_train)\n",
    "print(ridgetuner.best_params_, ridgetuner.best_estimator_.score(X_train, y_train), ridgetuner.best_estimator_.score(X_test, y_test))"
   ]
  },
  {
   "cell_type": "code",
   "execution_count": null,
   "id": "42ac191d",
   "metadata": {},
   "outputs": [],
   "source": []
  }
 ],
 "metadata": {
  "kernelspec": {
   "display_name": "Python 3 (ipykernel)",
   "language": "python",
   "name": "python3"
  },
  "language_info": {
   "codemirror_mode": {
    "name": "ipython",
    "version": 3
   },
   "file_extension": ".py",
   "mimetype": "text/x-python",
   "name": "python",
   "nbconvert_exporter": "python",
   "pygments_lexer": "ipython3",
   "version": "3.9.12"
  }
 },
 "nbformat": 4,
 "nbformat_minor": 5
}
